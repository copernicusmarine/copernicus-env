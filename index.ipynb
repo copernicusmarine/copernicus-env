{
 "cells": [
  {
   "cell_type": "markdown",
   "metadata": {},
   "source": [
    "![header](https://i.imgur.com/I4ake6d.jpg \"CRTS-DEC2018\")"
   ]
  },
  {
   "cell_type": "markdown",
   "metadata": {},
   "source": [
    "# Table of Content\n",
    "---\n",
    "- [Introduction](#CREATE-A-COPERNICUS-MARINE-ACCOUNT)\n",
    "<br><br>\n",
    "- [Prerequisite](#Some-modules-import-for-pedagogical-reasons)\n",
    "<br><br>\n",
    "- [WebServices](#WebService-1---Explore-Copernicus-Marine-Open-Catalogue-and-DataHub)\n",
    "     - Copernicus Marine Catalogue & OpenSearch\n",
    "     - Copernicus Marine Products\n",
    "     - Copernicus Marine Viewer\n",
    "     - Copernicus Marine Scientific Documentations\n",
    "     - Copernicus Marine Interactive Download Interface\n",
    "     - Copernicus Marine Downloader (API-Desktop Client)\n",
    "     - Copernicus Marine Advanced Python Scripts\n",
    "<br><br>\n",
    "- [How to check the content of NetCDF file and quickly plot data?](#How-to-check-the-content-of-NetCDF-file-and-quickly-plot-data)\n",
    "     - Exploring NetCDF file content\n",
    "     - Checking NetCDF Metadata\n",
    "     - Checking NetCDF Data\n",
    "     - Performing some computations on marine variables\n",
    "     - Creating maps of computed marine variables\n",
    "<br><br>\n",
    "- [How to learn how these marine data are used ? How to get inspired?](#How-to-learn-how-these-marine-data-are-used-?-How-to-get-inspired?)<br><br>\n",
    "- [Exchange and share on Copernicus Marine Forum](#Exchange-and-share-on-Copernicus-Marine-Forum)<br><br>\n",
    "- [How to request help and contact the Copernicus Marine Support Service?](#Sometimes-you-just-need-a-little-help)"
   ]
  },
  {
   "cell_type": "markdown",
   "metadata": {},
   "source": [
    "![Theme](https://i.imgur.com/1n10pBV.png \"Copernicus Marine WebServices and Python\")"
   ]
  },
  {
   "cell_type": "markdown",
   "metadata": {},
   "source": [
    "<h1><center><span style=\"color: #006699;\"> Why should we learn how to use Python to call <br> Copernicus Marine WebServices:</span><br></center> \n",
    "\n",
    "<ul><span style=\"color: #006699;\"> \n",
    "  <li> Exploring Catalogue and OpenHub</li>\n",
    "  <li> Visualizing In Situ, Satellite and Model Products</li>\n",
    "  <li> Downloading whole datasets or subset thanks to Extraction Service</li>\n",
    "  <li> Computing, Plotting Data </li>\n",
    "  <li> And many more (see <a href=\"https://atlas.mercator-ocean.fr/s/n96TPr4cJsQNeKA\"> Advanced Tutorials</a>)... </li>\n",
    "</span></ul>\n",
    "</h1>"
   ]
  },
  {
   "cell_type": "markdown",
   "metadata": {},
   "source": [
    "<div class=\"alert alert-block alert-info\">\n",
    "\n",
    "<center><h1><b>Recommendation:</b></h1></center>\n",
    "<center><h1><b>CREATE A COPERNICUS MARINE ACCOUNT</b></h1></center></div>"
   ]
  },
  {
   "cell_type": "markdown",
   "metadata": {},
   "source": [
    "![Why Python and CMEMS](https://i.imgur.com/ClJrjij.png \"Why Copernicus Marine WebServices and Python\")"
   ]
  },
  {
   "cell_type": "markdown",
   "metadata": {},
   "source": [
    "<h1><center><span style=\"color: #006699;\"> Create your free account here:<br><br> <a href=\"http://marine.copernicus.eu/services-portfolio/register-now/\"> http://marine.copernicus.eu/services-portfolio/register-now </a></span><br></center> "
   ]
  },
  {
   "cell_type": "markdown",
   "metadata": {},
   "source": [
    "<div class=\"alert alert-block alert-info\">\n",
    "    \n",
    "<b>Prerequisites to attend Copernicus Marine Practical Session</b>\n",
    "\n",
    "---\n",
    "\n",
    "Read at first the [LETS GET STARTED](http://marine.copernicus.eu/getting-started/) websection, which goes through:\n",
    "\n",
    "- Copernicus Marine Product **Standard Output (file format)** is **NetCDF (.nc)**. If you aren’t familiar with this data format, the **[netCDF FAQ](http://www.unidata.ucar.edu/software/netcdf/docs/faq.html#What-Is-netCDF)** is a good place to start.\n",
    "<br><br>\n",
    "- Can you provide me with an [**Overview** of **available Products**](http://marine.copernicus.eu/faq/can-you-provide-me-with-an-overview-of-the-cmems-catalogue-of-products/?idpage=169) in **Catalogue**?\n",
    "<br><br>\n",
    "- How can I access the [**Technical** and **Scientific documentations**](http://marine.copernicus.eu/faq/how-can-i-access-the-documentation-associated-to-a-product/?idpage=169) associated to a **Product**?\n",
    "<br><br>\n",
    "- How can I get more information regarding [**Scientific Quality**](http://marine.copernicus.eu/faq/how-can-i-get-more-information-regarding-quality-of-products/?idpage=169) of **Products**?\n",
    "<br><br>\n",
    "- How to use the **online web-GIS tool** to [**Georeference**, **Visualize** and **Preview**](http://marine.copernicus.eu/faq/how-to-quickly-visualize-a-product/?idpage=169) a Product **WITHOUT having to download data**?\n",
    "<br><br>\n",
    "- How to [**Download**](http://marine.copernicus.eu/faq/how-to-download-cmems-products/?idpage=169) a **Product or Dataset**?\n",
    "<br><br>\n",
    "- What are the [**Advantages**](http://marine.copernicus.eu/faq/what-are-the-advantages-of-each-cmems-download-mechanism/?idpage=169) of each Copernicus Marine [**Data Access Options**?](http://marine.copernicus.eu/faq/what-are-the-advantages-of-each-cmems-download-mechanism/?idpage=169)<br><br>\n",
    "- Can I [**Subscribe** to a **Machine-to-Machine (M2M) communication**](http://marine.copernicus.eu/faq/can-i-automate-downloads-of-cmems-products/?idpage=169) to **Automate Products Retrieval**??\n",
    "<br><br>\n",
    "- What are the [**MOTU**](http://marine.copernicus.eu/faq/what-are-the-motu-and-python-requirements/?idpage=169) and [**Python requirements**](http://marine.copernicus.eu/faq/what-are-the-motu-and-python-requirements/?idpage=169)?\n",
    "  - TIPS : Python is alreadly installed and we'll see in a minute how to retrieve the motu-client  <br>\n",
    "  <br>\n",
    "- How [**to write** and **run the script**](http://marine.copernicus.eu/faq/how-to-write-and-run-the-script-to-download-cmems-products-through-subset-or-direct-download-mechanisms/?idpage=169) to download CMEMS products through **Subsetter (SUB)** or **Direct download mechanisms (DGF)**?\n",
    "  <br>\n",
    "  <br>\n",
    "- Is a **download** request [**limited** in **data size**](http://marine.copernicus.eu/faq/is-a-download-limited-in-terms-of-volume/?idpage=169)?\n",
    "  <br>\n",
    "  <br>\n",
    "- How to **overcome such limit**?\n",
    "  - [Example 1 HelpCenter](http://marine.copernicus.eu/faq/how-to-download-a-large-amount-of-data-using-subset-or-direct-download-mechanisms/?idpage=169)\n",
    "  - [Example 2 Open Forum](http://forum.marine.copernicus.eu/discussion/202/how-to-download-a-large-amount-of-cmems-data-how-to-perform-a-loop-on-dates-new#Item_1)\n",
    "  <br>\n",
    "  <br>\n",
    "- Can you give a [**few examples of command lines**](http://marine.copernicus.eu/faq/can-you-give-a-few-examples-of-command-lines-to-download/?idpage=169) to submit **extraction request** and **dataset subset download**?\n",
    "  <br>\n",
    "  <br>"
   ]
  },
  {
   "cell_type": "markdown",
   "metadata": {},
   "source": [
    "# How to learn how these marine data are used ? How to get inspired?\n",
    "----"
   ]
  },
  {
   "cell_type": "markdown",
   "metadata": {},
   "source": [
    "On the Copernicus Marine Website, there are two websections on which you can find useful information and answers to the above questions, such as:\n",
    "- [Use Cases Presentation](http://marine.copernicus.eu/markets/submit-your-use-case/)\n",
    "- [Downstream Service Demonstration](http://marine.copernicus.eu/markets/use-case-demos/)"
   ]
  },
  {
   "cell_type": "markdown",
   "metadata": {
    "nbpresent": {
     "id": "47152d9c-f7c0-435a-8dc7-17ab76f0ddc9"
    }
   },
   "source": [
    "# Sometimes you just need a little help\n",
    "--- "
   ]
  },
  {
   "cell_type": "markdown",
   "metadata": {},
   "source": [
    "The Copernicus Marine Support Service is available and free of charge, as described below. By executing the cell, you'll see a `SUBMIT TICKET` button. Feel free to use to raise your questions."
   ]
  },
  {
   "cell_type": "code",
   "execution_count": 1,
   "metadata": {
    "slideshow": {
     "slide_type": "skip"
    }
   },
   "outputs": [
    {
     "data": {
      "text/html": [
       "<div class=\"text\">\n",
       "<p>&nbsp;</p>\n",
       "<p><span style=\"font-size: medium;\">More to come next. Meantime, if you have any questions, feel free to check at first the online resources :</span></p>\n",
       "<p>&nbsp;</p>\n",
       "</div>\n",
       "<table>\n",
       "<tbody>\n",
       "<tr>\n",
       "<td><a href=\"http://marine.copernicus.eu/training/online-tutorials/\"><img class=\"alignnone\" title=\"\" src=\"http://marine.copernicus.eu/wp-content/uploads/2016/10/online-tutorial-video.png\" alt=\"\" width=\"30\" height=\"30\" /></a></td>\n",
       "<td>\n",
       "<p>In the <a href=\"http://marine.copernicus.eu/training/online-tutorials/\"><strong>ONLINE TUTORIAL</strong></a> section, you'll find <em>HOW TO</em> videos about previous User Training &amp; Workshop. Specific videos show how to use CMEMS Products and Services.</p>\n",
       "</td>\n",
       "</tr>\n",
       "<tr>\n",
       "<td><a href=\"http://marine.copernicus.eu/services-portfolio/technical-faq/\"><img class=\"aligncenter\" title=\"\" src=\"http://marine.copernicus.eu/wp-content/uploads/2016/10/frequently-asked-questions.png\" alt=\"\" width=\"30\" height=\"30\" /></a></td>\n",
       "<td>In the <a href=\"http://marine.copernicus.eu/services-portfolio/technical-faq/\"><strong><span style=\"color: #006699;\">FREQUENTLY ASKED QUESTIONS</span></strong></a> section, CMEMS Products and Services won't have any secret for you.</td>\n",
       "</tr>\n",
       "<tr>\n",
       "<td><a href=\"http://forum.marine.copernicus.eu/categories/introduce-yourself\"><img class=\"aligncenter\" title=\"\" src=\"http://marine.copernicus.eu/wp-content/uploads/2016/10/cmems-forum.png\" alt=\"\" width=\"30\" height=\"30\" /></a></td>\n",
       "<td>In the <a href=\"http://forum.marine.copernicus.eu/categories/introduce-yourself\"><span style=\"color: #006699;\"><strong>CMEMS Forum</strong></span></a>, you can exchange, share, get trained and get inspired ! </td>\n",
       "</tr>\n",
       "</tbody>\n",
       "</table>\n",
       "<p>&nbsp;</p>\n",
       "<div class=\"text\">\n",
       "<p>&nbsp;</p>\n",
       "<p><span style=\"font-size: medium;\">If your questions remain unsolved, <span style=\"color: #006699;\"><strong>CMEMS Support Team</strong></span> is here to support you during business hours, from <span style=\"color: #006699;\"><strong>7 AM</strong></span> to <span style=\"color: #006699;\"><strong>3 PM</strong></span> UTC, <span style=\"color: #006699;\"><strong>Monday - Friday</strong></span> (limited support on holidays)</span></p>\n",
       "</div>\n",
       "<p style=\"text-align: center;\"><a class=\"typeform-share button\" href=\"https://marinecopernicus.typeform.com/to/dezUKa\" target=\"_blank\" data-mode=\"1\">Submit a ticket</a> <script>(function(){var qs,js,q,s,d=document,gi=d.getElementById,ce=d.createElement,gt=d.getElementsByTagName,id='typef_orm',b='https://s3-eu-west-1.amazonaws.com/share.typeform.com/';if(!gi.call(d,id)){js=ce.call(d,'script');js.id=id;js.src=b+'share.js';q=gt.call(d,'script')[0];q.parentNode.insertBefore(js,q)}id=id+'_';if(!gi.call(d,id)){qs=ce.call(d,'link');qs.rel='stylesheet';qs.id=id;qs.href=b+'share-button.css';s=gt.call(d,'head')[0];s.appendChild(qs,s)}})()</script></p>\n",
       "<div class=\"text\">\n",
       "<p>&nbsp;</p>\n",
       "<p>&nbsp;</p>\n",
       "<p><span style=\"font-size: medium;\">For any question related to the Communication field, please contact <span style=\"color: #006699;\"><strong><a style=\"color: #006699;\" href=\"mailto:communication@mercator-ocean.fr\">CMEMS </a></strong></span></span><span style=\"color: #006699;\"><strong><a style=\"color: #006699;\" href=\"mailto:communication@mercator-ocean.fr\"><span style=\"font-size: medium;\">Communication team</span></a></strong></span><span style=\"font-size: medium;\">.</span></p>\n",
       "</div>\n"
      ],
      "text/plain": [
       "<IPython.core.display.HTML object>"
      ]
     },
     "metadata": {},
     "output_type": "display_data"
    }
   ],
   "source": [
    "%%HTML\n",
    "<div class=\"text\">\n",
    "<p>&nbsp;</p>\n",
    "<p><span style=\"font-size: medium;\">More to come next. Meantime, if you have any questions, feel free to check at first the online resources :</span></p>\n",
    "<p>&nbsp;</p>\n",
    "</div>\n",
    "<table>\n",
    "<tbody>\n",
    "<tr>\n",
    "<td><a href=\"http://marine.copernicus.eu/training/online-tutorials/\"><img class=\"alignnone\" title=\"\" src=\"http://marine.copernicus.eu/wp-content/uploads/2016/10/online-tutorial-video.png\" alt=\"\" width=\"30\" height=\"30\" /></a></td>\n",
    "<td>\n",
    "<p>In the <a href=\"http://marine.copernicus.eu/training/online-tutorials/\"><strong>ONLINE TUTORIAL</strong></a> section, you'll find <em>HOW TO</em> videos about previous User Training &amp; Workshop. Specific videos show how to use CMEMS Products and Services.</p>\n",
    "</td>\n",
    "</tr>\n",
    "<tr>\n",
    "<td><a href=\"http://marine.copernicus.eu/services-portfolio/technical-faq/\"><img class=\"aligncenter\" title=\"\" src=\"http://marine.copernicus.eu/wp-content/uploads/2016/10/frequently-asked-questions.png\" alt=\"\" width=\"30\" height=\"30\" /></a></td>\n",
    "<td>In the <a href=\"http://marine.copernicus.eu/services-portfolio/technical-faq/\"><strong><span style=\"color: #006699;\">FREQUENTLY ASKED QUESTIONS</span></strong></a> section, CMEMS Products and Services won't have any secret for you.</td>\n",
    "</tr>\n",
    "<tr>\n",
    "<td><a href=\"http://forum.marine.copernicus.eu/categories/introduce-yourself\"><img class=\"aligncenter\" title=\"\" src=\"http://marine.copernicus.eu/wp-content/uploads/2016/10/cmems-forum.png\" alt=\"\" width=\"30\" height=\"30\" /></a></td>\n",
    "<td>In the <a href=\"http://forum.marine.copernicus.eu/categories/introduce-yourself\"><span style=\"color: #006699;\"><strong>CMEMS Forum</strong></span></a>, you can exchange, share, get trained and get inspired ! </td>\n",
    "</tr>\n",
    "</tbody>\n",
    "</table>\n",
    "<p>&nbsp;</p>\n",
    "<div class=\"text\">\n",
    "<p>&nbsp;</p>\n",
    "<p><span style=\"font-size: medium;\">If your questions remain unsolved, <span style=\"color: #006699;\"><strong>CMEMS Support Team</strong></span> is here to support you during business hours, from <span style=\"color: #006699;\"><strong>7 AM</strong></span> to <span style=\"color: #006699;\"><strong>3 PM</strong></span> UTC, <span style=\"color: #006699;\"><strong>Monday - Friday</strong></span> (limited support on holidays)</span></p>\n",
    "</div>\n",
    "<p style=\"text-align: center;\"><a class=\"typeform-share button\" href=\"https://marinecopernicus.typeform.com/to/dezUKa\" target=\"_blank\" data-mode=\"1\">Submit a ticket</a> <script>(function(){var qs,js,q,s,d=document,gi=d.getElementById,ce=d.createElement,gt=d.getElementsByTagName,id='typef_orm',b='https://s3-eu-west-1.amazonaws.com/share.typeform.com/';if(!gi.call(d,id)){js=ce.call(d,'script');js.id=id;js.src=b+'share.js';q=gt.call(d,'script')[0];q.parentNode.insertBefore(js,q)}id=id+'_';if(!gi.call(d,id)){qs=ce.call(d,'link');qs.rel='stylesheet';qs.id=id;qs.href=b+'share-button.css';s=gt.call(d,'head')[0];s.appendChild(qs,s)}})()</script></p>\n",
    "<div class=\"text\">\n",
    "<p>&nbsp;</p>\n",
    "<p>&nbsp;</p>\n",
    "<p><span style=\"font-size: medium;\">For any question related to the Communication field, please contact <span style=\"color: #006699;\"><strong><a style=\"color: #006699;\" href=\"mailto:communication@mercator-ocean.fr\">CMEMS </a></strong></span></span><span style=\"color: #006699;\"><strong><a style=\"color: #006699;\" href=\"mailto:communication@mercator-ocean.fr\"><span style=\"font-size: medium;\">Communication team</span></a></strong></span><span style=\"font-size: medium;\">.</span></p>\n",
    "</div>"
   ]
  },
  {
   "cell_type": "markdown",
   "metadata": {},
   "source": [
    " \n",
    " \n",
    "##### Thanks for your attention and sharing."
   ]
  }
 ],
 "metadata": {
  "anaconda-cloud": {},
  "kernelspec": {
   "display_name": "Python 3",
   "language": "python",
   "name": "python3"
  },
  "language_info": {
   "codemirror_mode": {
    "name": "ipython",
    "version": 3
   },
   "file_extension": ".py",
   "mimetype": "text/x-python",
   "name": "python",
   "nbconvert_exporter": "python",
   "pygments_lexer": "ipython3",
   "version": "3.7.3"
  },
  "nbpresent": {
   "slides": {
    "07650707-a6e5-4cda-a61a-bfaeecf3463e": {
     "id": "07650707-a6e5-4cda-a61a-bfaeecf3463e",
     "prev": "0cc45c6e-02f4-49fa-82e3-7f9bf47e41d8",
     "regions": {
      "fc7dd2f3-86bb-4ad0-ae98-14270b763950": {
       "attrs": {
        "height": 1,
        "width": 1,
        "x": 0,
        "y": 0
       },
       "content": {
        "cell": "34b5bd47-5eb9-408c-85dd-0e2b7e24d603",
        "part": "whole"
       },
       "id": "fc7dd2f3-86bb-4ad0-ae98-14270b763950"
      }
     }
    },
    "0cc45c6e-02f4-49fa-82e3-7f9bf47e41d8": {
     "id": "0cc45c6e-02f4-49fa-82e3-7f9bf47e41d8",
     "prev": "bb2ef2fa-db27-420f-bd0a-fff634b776a9",
     "regions": {
      "9bfc2a32-d9bc-4b16-887e-510971a5c56e": {
       "attrs": {
        "height": 1,
        "width": 1,
        "x": 0,
        "y": 0
       },
       "content": {
        "cell": "ceba9f7d-7a54-4f35-b059-7668f8a15407",
        "part": "whole"
       },
       "id": "9bfc2a32-d9bc-4b16-887e-510971a5c56e"
      }
     }
    },
    "bb2ef2fa-db27-420f-bd0a-fff634b776a9": {
     "id": "bb2ef2fa-db27-420f-bd0a-fff634b776a9",
     "prev": null,
     "regions": {
      "28567736-9bac-41df-8a10-3e878cdf4371": {
       "attrs": {
        "height": 1,
        "width": 1,
        "x": 0.0011876484560570072,
        "y": 0.00844550013196094
       },
       "content": {
        "cell": "e650ae1c-561f-4795-a198-64414a1a70a2",
        "part": "whole"
       },
       "id": "28567736-9bac-41df-8a10-3e878cdf4371"
      }
     }
    }
   },
   "themes": {
    "default": "09b0ed37-512c-41d2-83b5-7416c33e1762",
    "theme": {}
   }
  }
 },
 "nbformat": 4,
 "nbformat_minor": 1
}

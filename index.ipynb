{
 "cells": [
  {
   "cell_type": "markdown",
   "metadata": {},
   "source": [
    "![header](https://i.imgur.com/I4ake6d.jpg \"CRTS-DEC2018\")"
   ]
  },
  {
   "cell_type": "markdown",
   "metadata": {},
   "source": [
    "# Table of Content\n",
    "---\n",
    "- [Introduction](#CREATE-A-COPERNICUS-MARINE-ACCOUNT)\n",
    "<br><br>\n",
    "- [Prerequisite](#Some-modules-import-for-pedagogical-reasons)\n",
    "<br><br>\n",
    "- [WebServices](#WebService-1---Explore-Copernicus-Marine-Open-Catalogue-and-DataHub)\n",
    "     - Copernicus Marine Catalogue & OpenSearch\n",
    "     - Copernicus Marine Products\n",
    "     - Copernicus Marine Viewer\n",
    "     - Copernicus Marine Scientific Documentations\n",
    "     - Copernicus Marine Interactive Download Interface\n",
    "     - Copernicus Marine Downloader (API-Desktop Client)\n",
    "     - Copernicus Marine Advanced Python Scripts\n",
    "<br><br>\n",
    "- [How to check the content of NetCDF file and quickly plot data?](#How-to-check-the-content-of-NetCDF-file-and-quickly-plot-data)\n",
    "     - Exploring NetCDF file content\n",
    "     - Checking NetCDF Metadata\n",
    "     - Checking NetCDF Data\n",
    "     - Performing some computations on marine variables\n",
    "     - Creating maps of computed marine variables\n",
    "<br><br>\n",
    "- [How to learn how these marine data are used ? How to get inspired?](#How-to-learn-how-these-marine-data-are-used-?-How-to-get-inspired?)<br><br>\n",
    "- [Exchange and share on Copernicus Marine Forum](#Exchange-and-share-on-Copernicus-Marine-Forum)<br><br>\n",
    "- [How to request help and contact the Copernicus Marine Support Service?](#Sometimes-you-just-need-a-little-help)"
   ]
  },
  {
   "cell_type": "markdown",
   "metadata": {},
   "source": [
    "![Theme](https://i.imgur.com/1n10pBV.png \"Copernicus Marine WebServices and Python\")"
   ]
  },
  {
   "cell_type": "markdown",
   "metadata": {},
   "source": [
    "<h1><center><span style=\"color: #006699;\"> Why should we learn how to use Python to call <br> Copernicus Marine WebServices:</span><br></center> \n",
    "\n",
    "<ul><span style=\"color: #006699;\"> \n",
    "  <li> Exploring Catalogue and OpenHub</li>\n",
    "  <li> Visualizing In Situ, Satellite and Model Products</li>\n",
    "  <li> Downloading whole datasets or subset thanks to Extraction Service</li>\n",
    "  <li> Computing, Plotting Data </li>\n",
    "  <li> And many more (see <a href=\"https://atlas.mercator-ocean.fr/s/n96TPr4cJsQNeKA\"> Advanced Tutorials</a>)... </li>\n",
    "</span></ul>\n",
    "</h1>"
   ]
  },
  {
   "cell_type": "markdown",
   "metadata": {},
   "source": [
    "<div class=\"alert alert-block alert-info\">\n",
    "\n",
    "<center><h1><b>Recommendation:</b></h1></center>\n",
    "<center><h1><b>CREATE A COPERNICUS MARINE ACCOUNT</b></h1></center>\n",
    "\n",
    "<b>Tips</b>: You can execute the below cell and request freely your copernicus marine account"
   ]
  },
  {
   "cell_type": "markdown",
   "metadata": {},
   "source": [
    "![Why Python and CMEMS](https://i.imgur.com/ClJrjij.png \"Why Copernicus Marine WebServices and Python\")"
   ]
  },
  {
   "cell_type": "code",
   "execution_count": null,
   "metadata": {},
   "outputs": [],
   "source": [
    "from IPython.display import IFrame, HTML\n",
    "IFrame(\"http://resources.marine.copernicus.eu/index.php?option=com_sla\", width=1000, height=600)"
   ]
  },
  {
   "cell_type": "markdown",
   "metadata": {},
   "source": [
    "<div class=\"alert alert-block alert-info\">\n",
    "    \n",
    "<b>Prerequisites to attend Copernicus Marine Practical Session</b>\n",
    "\n",
    "---\n",
    "\n",
    "Read at first the [LETS GET STARTED](http://marine.copernicus.eu/getting-started/) websection, which goes through:\n",
    "\n",
    "- Copernicus Marine Product **Standard Output (file format)** is **NetCDF (.nc)**. If you aren’t familiar with this data format, the **[netCDF FAQ](http://www.unidata.ucar.edu/software/netcdf/docs/faq.html#What-Is-netCDF)** is a good place to start.\n",
    "<br><br>\n",
    "- Can you provide me with an [**Overview** of **available Products**](http://marine.copernicus.eu/faq/can-you-provide-me-with-an-overview-of-the-cmems-catalogue-of-products/?idpage=169) in **Catalogue**?\n",
    "<br><br>\n",
    "- How can I access the [**Technical** and **Scientific documentations**](http://marine.copernicus.eu/faq/how-can-i-access-the-documentation-associated-to-a-product/?idpage=169) associated to a **Product**?\n",
    "<br><br>\n",
    "- How can I get more information regarding [**Scientific Quality**](http://marine.copernicus.eu/faq/how-can-i-get-more-information-regarding-quality-of-products/?idpage=169) of **Products**?\n",
    "<br><br>\n",
    "- How to use the **online web-GIS tool** to [**Georeference**, **Visualize** and **Preview**](http://marine.copernicus.eu/faq/how-to-quickly-visualize-a-product/?idpage=169) a Product **WITHOUT having to download data**?\n",
    "<br><br>\n",
    "- How to [**Download**](http://marine.copernicus.eu/faq/how-to-download-cmems-products/?idpage=169) a **Product or Dataset**?\n",
    "<br><br>\n",
    "- What are the [**Advantages**](http://marine.copernicus.eu/faq/what-are-the-advantages-of-each-cmems-download-mechanism/?idpage=169) of each Copernicus Marine [**Data Access Options**?](http://marine.copernicus.eu/faq/what-are-the-advantages-of-each-cmems-download-mechanism/?idpage=169)<br><br>\n",
    "- Can I [**Subscribe** to a **Machine-to-Machine (M2M) communication**](http://marine.copernicus.eu/faq/can-i-automate-downloads-of-cmems-products/?idpage=169) to **Automate Products Retrieval**??\n",
    "<br><br>\n",
    "- What are the [**MOTU**](http://marine.copernicus.eu/faq/what-are-the-motu-and-python-requirements/?idpage=169) and [**Python requirements**](http://marine.copernicus.eu/faq/what-are-the-motu-and-python-requirements/?idpage=169)?\n",
    "  - TIPS : Python is alreadly installed and we'll see in a minute how to retrieve the motu-client  <br>\n",
    "  <br>\n",
    "- How [**to write** and **run the script**](http://marine.copernicus.eu/faq/how-to-write-and-run-the-script-to-download-cmems-products-through-subset-or-direct-download-mechanisms/?idpage=169) to download CMEMS products through **Subsetter (SUB)** or **Direct download mechanisms (DGF)**?\n",
    "  <br>\n",
    "  <br>\n",
    "- Is a **download** request [**limited** in **data size**](http://marine.copernicus.eu/faq/is-a-download-limited-in-terms-of-volume/?idpage=169)?\n",
    "  <br>\n",
    "  <br>\n",
    "- How to **overcome such limit**?\n",
    "  - [Example 1 HelpCenter](http://marine.copernicus.eu/faq/how-to-download-a-large-amount-of-data-using-subset-or-direct-download-mechanisms/?idpage=169)\n",
    "  - [Example 2 Open Forum](http://forum.marine.copernicus.eu/discussion/202/how-to-download-a-large-amount-of-cmems-data-how-to-perform-a-loop-on-dates-new#Item_1)\n",
    "  <br>\n",
    "  <br>\n",
    "- Can you give a [**few examples of command lines**](http://marine.copernicus.eu/faq/can-you-give-a-few-examples-of-command-lines-to-download/?idpage=169) to submit **extraction request** and **dataset subset download**?\n",
    "  <br>\n",
    "  <br>"
   ]
  },
  {
   "cell_type": "markdown",
   "metadata": {},
   "source": [
    "<div class=\"alert alert-block alert-warning\">\n",
    "<b>Prerequisite to follow the Copernicus Marine Hands-on (NOT MANDATORY FOR THIS TRAINING)</b>\n",
    "\n",
    "--- \n",
    "\n",
    "Let's start with creating a symbolic link so that we don't have to bother using the full path of your folder linked to your host Operating System (OS). As a record, the Virtual Machine provided by Mercator Ocean is a guest OS.\n",
    "\n",
    "To make links between files you need to use \"ln\" command. A symbolic link (also known as a soft link or symlink) consists of a special type of file that serves as a reference to another file or directory.\n",
    "\n",
    "There are two types of links\n",
    "\n",
    "    symbolic links: Refer to a symbolic path indicating the abstract location of another file\n",
    "    hard links : Refer to the specific location of physical data.\n",
    "    \n",
    "To create a symbolic link in Unix or Linux, at the shell prompt (Ctrl+alt+t), enter the following command:\n",
    "\n",
    "    ln -s {target-foldername} {symbolic-foldername}\n",
    "\n",
    "In our example, the *target-foldername* is **/media/sf_Hands-on_CMEMS/** and the *symbolic-foldername* is **/home/mercator/**"
   ]
  },
  {
   "cell_type": "markdown",
   "metadata": {},
   "source": [
    "# Some modules import for pedagogical reasons\n",
    "---"
   ]
  },
  {
   "cell_type": "code",
   "execution_count": null,
   "metadata": {},
   "outputs": [],
   "source": [
    "import sys\n",
    "print(\"Your Python is executed from:\",  sys.executable)\n",
    "print(\"Your Python version is:\", sys.version)\n",
    "print(\"The Semantic Versioning is: \" , sys.version_info)"
   ]
  },
  {
   "cell_type": "code",
   "execution_count": null,
   "metadata": {},
   "outputs": [],
   "source": [
    "from IPython.display import IFrame, HTML\n",
    "import tailer\n",
    "try:\n",
    "    from urllib.parse import urlparse, urlencode\n",
    "    from urllib.request import urlopen, Request\n",
    "    from urllib.error import HTTPError\n",
    "    import urllib\n",
    "except ImportError:\n",
    "    import urllib\n",
    "    from urlparse import urlparse\n",
    "    from urllib import urlencode\n",
    "    from urllib2 import urlopen, Request, HTTPError"
   ]
  },
  {
   "cell_type": "markdown",
   "metadata": {
    "slideshow": {
     "slide_type": "-"
    }
   },
   "source": [
    "# WebService 1 - Explore Copernicus Marine Open Catalogue and DataHub\n",
    "---"
   ]
  },
  {
   "cell_type": "markdown",
   "metadata": {
    "slideshow": {
     "slide_type": "-"
    }
   },
   "source": [
    "- #### Graphical User Interface (GUI)"
   ]
  },
  {
   "cell_type": "code",
   "execution_count": null,
   "metadata": {},
   "outputs": [],
   "source": [
    "# Display HOWTO Video about DISCOVERING and SEARCHING for Copernicus Marine Product within the notebook\n",
    "\n",
    "HTML('<iframe width=\"560\" height=\"315\" src=\"https://www.youtube.com/embed/4Hnyv61x3wM?start=2\" frameborder=\"0\" allowfullscreen></iframe>')"
   ]
  },
  {
   "cell_type": "markdown",
   "metadata": {},
   "source": [
    "<div class=\"alert alert-block alert-success\">\n",
    "\n",
    "### ACTION 1\n",
    "\n",
    "**Exploring Catalogue filters**\n",
    "\n",
    "Execute the below cell (called CATALOGUE DISCOVERY - GUI) and use the left panel to refine the catalogue result by:\n",
    "- REGIONAl DOMAIN\n",
    "- OCEAN ESSENTIAL VARIABLES\n",
    "- TEMPORAL COVERAGE\n",
    "- PRODUCT IN 3D or 4D (DEPTH)"
   ]
  },
  {
   "cell_type": "markdown",
   "metadata": {},
   "source": [
    "<div class=\"alert alert-block alert-info\">\n",
    "\n",
    "**Note**: Clicking on any other button (MORE INFO or ADD TO CART) may open a webpage and leave this notebook.\n",
    "**If this happens**, then just click on the \"Go Back\" button of your web browser."
   ]
  },
  {
   "cell_type": "code",
   "execution_count": null,
   "metadata": {},
   "outputs": [],
   "source": [
    "# CATALOGUE DISCOVERY - Graphical User Interface (GUI)\n",
    "\n",
    "IFrame(\"http://resources.marine.copernicus.eu/?option=com_csw&task=results\", width=1000, height=800)"
   ]
  },
  {
   "cell_type": "markdown",
   "metadata": {},
   "source": [
    "<div class=\"alert alert-block alert-warning\">\n",
    "\n",
    "**REMINDER**: The aim of this action is to explore the <span style=\"text-decoration:underline\">catalogue using the LEFT PANEL</span>."
   ]
  },
  {
   "cell_type": "markdown",
   "metadata": {
    "slideshow": {
     "slide_type": "-"
    }
   },
   "source": [
    "- #### Text-Based Interface using Catalogue Web Service (CSW and CLI for Command-Line Interface whose ouput is XML)"
   ]
  },
  {
   "cell_type": "markdown",
   "metadata": {},
   "source": [
    "This protocol (below cell) is mostly useful for Developers and not necesseraly for End-Users. If you have any question, please contact our [Service Support](http://marine.copernicus.eu/services-portfolio/contact-us/)."
   ]
  },
  {
   "cell_type": "code",
   "execution_count": null,
   "metadata": {},
   "outputs": [],
   "source": [
    "# Catalogue Service Web (CSW) End Point\n",
    "csw_txt_based_interface_xml = \"https://cmems-catalog-ro.cls.fr/geonetwork/srv/eng/csw-MYOCEAN-CORE-PRODUCTS?request=GetRecords&service=CSW&version=2.0.2\"\n",
    "\n",
    "# CSW Params - Example based on a search to display only products available via MOTU Subsetter WebService\n",
    "csw_maxrecords = \"maxrecords=10\"\n",
    "csw_other_params = \"&elementsetname=full&resultType=results&typename=gmd:MD_Metadata&outputSchema=http://www.isotc211.org/2005/gmd&RESULTTYPE=results&OUTPUTFORMAT=application/xml&namespace=xmlns(gmd=http://www.isotc211.org/2005/gmd),%20xmlns(geonet=http://www.fao.org/geonetwork),xmlns(csw=http://www.opengis.net/cat/csw/2.0.2),xmlns(ogc=http://www.opengis.net/ogc),xmlns(ows=http://www.opengis.net/ows),xmlns(dc=http://purl.org/dc/elements/1.1/),xmlns(dct=http://purl.org/dc/terms/),xmlns(gml=http://www.opengis.net/gml),xmlns(xsi=http://www.w3.org/2001/XMLSchema-instance)\"\n",
    "csw_constraint_motu_web_service = \"&startPosition=1&Constraint=(AnyText%3D%27MYO:MOTU-SUB%27)&constraintLanguage=CQL_TEXT&CONSTRAINT_LANGUAGE_VERSION=1.1.0&\"\n",
    "\n",
    "# CSW Request displayed in Notebook\n",
    "IFrame((csw_txt_based_interface_xml + csw_constraint_motu_web_service + csw_maxrecords + csw_other_params), width=1000, height=350)"
   ]
  },
  {
   "cell_type": "markdown",
   "metadata": {
    "slideshow": {
     "slide_type": "-"
    }
   },
   "source": [
    "- #### Third-Party (QGIS OGC CSW)"
   ]
  },
  {
   "cell_type": "markdown",
   "metadata": {},
   "source": [
    "<div class=\"alert alert-block alert-warning\">\n",
    "\n",
    "This topic will be explored during a **specific training** -- see \"[qgis-training](https://atlas.mercator-ocean.fr/s/n96TPr4cJsQNeKA)\""
   ]
  },
  {
   "cell_type": "code",
   "execution_count": null,
   "metadata": {},
   "outputs": [],
   "source": [
    "#!qgis"
   ]
  },
  {
   "cell_type": "markdown",
   "metadata": {
    "slideshow": {
     "slide_type": "-"
    }
   },
   "source": [
    "# WebService 2 - Display Product Description(s) - All metadata\n",
    "---"
   ]
  },
  {
   "cell_type": "markdown",
   "metadata": {},
   "source": [
    "The below tables will be used to consume web services. They replace \"human click\" made on the Interactive Catalogue and Download Interface. They are meant to make sure that attendees of training are on the same level of information."
   ]
  },
  {
   "cell_type": "code",
   "execution_count": null,
   "metadata": {},
   "outputs": [],
   "source": [
    "# product_id can be found by exploring the Copernicus Marine Catalogue\n",
    "product_id = \"GLOBAL_ANALYSIS_FORECAST_PHY_001_024\"\n",
    "\n",
    "# Example of several product_ids declaration using a table\n",
    "pid_table = [\"GLOBAL_ANALYSIS_FORECAST_PHY_001_024\", \\\n",
    "             \"GLOBAL_ANALYSIS_FORECAST_PHYS_001_015\", \\\n",
    "             \"MEDSEA_ANALYSIS_FORECAST_PHY_006_013\", \\\n",
    "             \"MEDSEA_ANALYSIS_FORECAST_BIO_006_014\", \\\n",
    "             \"IBI_ANALYSIS_FORECAST_PHYS_005_001\", \\\n",
    "             \"IBI_ANALYSIS_FORECAST_BIO_005_004\", \\\n",
    "             \"IBI_ANALYSIS_FORECAST_WAV_005_005\", \\\n",
    "             \"IBI_REANALYSIS_BIO_005_003\", \\\n",
    "             \"OCEANCOLOUR_GLO_CHL_L4_NRT_OBSERVATIONS_009_033\"]\n",
    "\n",
    "# Example of several product_ids declaration using a dictionary \n",
    "pid_dict = {'GLOBAL_ANALYSIS_FORECAST_PHY_001_024':'eec7a997-c57e-4dfa-9194-4c72154f5cc5', \\\n",
    "            'GLOBAL_ANALYSIS_FORECAST_PHYS_001_015':'67b97b94-87fb-4731-8170-26c2b019b979', \\\n",
    "            'MEDSEA_ANALYSIS_FORECAST_PHY_006_013':'66fb61fa-c911-4f7e-aec1-959627bbf2b3', \\\n",
    "            'MEDSEA_ANALYSIS_FORECAST_BIO_006_014':'262cacd8-c4b4-4ca1-8721-2b586361979c', \\\n",
    "            'IBI_ANALYSIS_FORECAST_PHYS_005_001':'a54ac0ea-b4f9-48cb-ae55-f84c78848a28', \\\n",
    "            'IBI_ANALYSIS_FORECAST_BIO_005_004':'5431a932-52e0-4dc8-bc35-0f4ada2cf048', \\\n",
    "            'IBI_ANALYSIS_FORECAST_WAV_005_005':'3bbb91cd-798c-4784-9327-e2b0f7500165', \\\n",
    "            'IBI_REANALYSIS_BIO_005_003':'5f98825b-2f9a-411c-81fc-5e82d1400baa',\n",
    "            'OCEANCOLOUR_GLO_CHL_L4_NRT_OBSERVATIONS_009_033':'bc19d37d-fa0d-4035-b80e-33a15e7e29e4'}"
   ]
  },
  {
   "cell_type": "code",
   "execution_count": null,
   "metadata": {},
   "outputs": [],
   "source": [
    "# Copernicus marine Product Description can be called through a specific URL request\n",
    "\n",
    "product_description_URL_request = \"http://resources.marine.copernicus.eu/?option=com_csw&view=details&product_id=\""
   ]
  },
  {
   "cell_type": "markdown",
   "metadata": {},
   "source": [
    "Product Identiers and corresponding tables are now set. We are ready to consume web services."
   ]
  },
  {
   "cell_type": "markdown",
   "metadata": {
    "slideshow": {
     "slide_type": "-"
    }
   },
   "source": [
    "- #### Graphical User Interface (GUI) for End-Users"
   ]
  },
  {
   "cell_type": "markdown",
   "metadata": {},
   "source": [
    "<div class=\"alert alert-block alert-success\">\n",
    "\n",
    "\n",
    "### ACTION 2\n",
    "\n",
    "**Exploring Product Description**\n",
    "\n",
    "Execute the below cells to display the Product Description of a product. \n",
    "- Use the index into brackets '[]' to load a new product from the above tables. "
   ]
  },
  {
   "cell_type": "code",
   "execution_count": null,
   "metadata": {},
   "outputs": [],
   "source": [
    "# Display the Product Description within this notebook\n",
    "\n",
    "product_id = pid_table[1]\n",
    "\n",
    "product_description_GUI =  product_description_URL_request + product_id\n",
    "IFrame(product_description_GUI, width=1000, height=600)"
   ]
  },
  {
   "cell_type": "markdown",
   "metadata": {},
   "source": [
    "The `product_description` could have been declared using the dictionary in place of the table object 'pid_table'.<br>\n",
    "**Optional Action**: Try it by yourself to display another product by changing the value of the index into the brackets []"
   ]
  },
  {
   "cell_type": "code",
   "execution_count": null,
   "metadata": {},
   "outputs": [],
   "source": [
    "# 'product_description' could have been declared using the dictionary in place of the table object 'pid_table'\n",
    "# Try it by yourself to display another product by changing the value of the index into the brackets []\n",
    "\n",
    "product_id = list(pid_dict)[0]\n",
    "\n",
    "product_description_GUI =  product_description_URL_request + product_id\n",
    "IFrame(product_description_GUI, width=1000, height=600)"
   ]
  },
  {
   "cell_type": "markdown",
   "metadata": {
    "slideshow": {
     "slide_type": "-"
    }
   },
   "source": [
    "- #### Text-Based Interface (or CLI for Command-Line Interface whose ouput is XML) - REST API for Developers"
   ]
  },
  {
   "cell_type": "markdown",
   "metadata": {},
   "source": [
    "<div class=\"alert alert-block alert-success\">\n",
    "\n",
    "\n",
    "### ACTION 3\n",
    "\n",
    "**Interoperability of Product Description**\n",
    "\n",
    "Execute the below cells to download the Product Description as .XML file on your local storage. "
   ]
  },
  {
   "cell_type": "code",
   "execution_count": null,
   "metadata": {},
   "outputs": [],
   "source": [
    "# let's retrieve the same information as above but using only Command-Line Interface\n",
    "\n",
    "try:\n",
    "    urllib.request.urlretrieve ((product_description_URL_request + product_id + '&format=xml'), (product_id + '.xml'))\n",
    "except AttributeError as e:\n",
    "    urllib.urlretrieve ((product_description_URL_request + product_id + '&format=xml'), (product_id + '.xml'))"
   ]
  },
  {
   "cell_type": "code",
   "execution_count": null,
   "metadata": {},
   "outputs": [],
   "source": [
    "# let's check the content of the .xml file, using a command line example of Shell Assignment calling the 'cat' program\n",
    "\n",
    "tailer.head(open(product_id + '.xml'), 10)"
   ]
  },
  {
   "cell_type": "markdown",
   "metadata": {
    "collapsed": true
   },
   "source": [
    "<div class=\"alert alert-block alert-info\">\n",
    "    \n",
    "**Note:**<br>\n",
    "\n",
    "---\n",
    "This part is interesting for Developers and not necessarely for End-Users. The Catalogue Web Service (CSV) has a powerful API whose documentation is available [here](https://geonetwork-opensource.org/manuals/2.10.4/eng/developer/xml_services/csw_services.html)."
   ]
  },
  {
   "cell_type": "markdown",
   "metadata": {
    "slideshow": {
     "slide_type": "-"
    }
   },
   "source": [
    "# WebService 3 - Visualize Products\n",
    "---"
   ]
  },
  {
   "cell_type": "markdown",
   "metadata": {
    "slideshow": {
     "slide_type": "-"
    }
   },
   "source": [
    "- #### Graphical User Interface (GUI) for End-Users"
   ]
  },
  {
   "cell_type": "code",
   "execution_count": null,
   "metadata": {},
   "outputs": [],
   "source": [
    "# Display HOWTO Video about VISUALIZING Copernicus Marine Product\n",
    "# within the notebook\n",
    "\n",
    "HTML('<iframe width=\"560\" height=\"315\" src=\"https://www.youtube.com/embed/gPj3H4AZhYo\" frameborder=\"0\" allowfullscreen></iframe>')"
   ]
  },
  {
   "cell_type": "markdown",
   "metadata": {},
   "source": [
    "<div class=\"alert alert-block alert-success\">\n",
    "\n",
    "### ACTION 4\n",
    "\n",
    "**Exploring Online Marine Viewer**\n",
    "\n",
    "Execute the below cell to display the Copernicus Marine Viewing Service. "
   ]
  },
  {
   "cell_type": "code",
   "execution_count": null,
   "metadata": {},
   "outputs": [],
   "source": [
    "# Display the viewing service within the notebook\n",
    "\n",
    "viewing_URL_request = \"http://view.marine.copernicus.eu/ViewService/?&record_id=\"\n",
    "\n",
    "product_viewing =  viewing_URL_request + list(pid_dict.values())[0]\n",
    "\n",
    "IFrame(product_viewing, width=1000, height=680)"
   ]
  },
  {
   "cell_type": "markdown",
   "metadata": {
    "collapsed": true
   },
   "source": [
    "<div class=\"alert alert-block alert-success\">\n",
    "\n",
    "\n",
    "### ACTION 5\n",
    "\n",
    "**Creating Plots from Online Marine Viewer**\n",
    "\n",
    "Perform several actions on the data using the viewer:\n",
    "\n",
    "5.1. Grid Point Information <br>\n",
    "5.2. Vertical Profile Plot <br>\n",
    "5.3. Time Series Plot <br>\n",
    "5.4. Transect <br>"
   ]
  },
  {
   "cell_type": "markdown",
   "metadata": {},
   "source": [
    "<div class=\"alert alert-block alert-info\">\n",
    "\n",
    "\n",
    "**Note:**<br>\n",
    "If you need help, feel free to execute the next IFrame cell to display the Article describing HOWTO for each action."
   ]
  },
  {
   "cell_type": "code",
   "execution_count": null,
   "metadata": {},
   "outputs": [],
   "source": [
    "# Display the article to help visualizing a product and perform actions.\n",
    "\n",
    "IFrame(\"http://marine.copernicus.eu/faq/how-to-quickly-visualize-a-product/?idpage=169\", width=1000, height=600)"
   ]
  },
  {
   "cell_type": "markdown",
   "metadata": {},
   "source": [
    "Before executing the below cell, please read the comment (lines starting with `#`). In this particular case, you need to replace `INPUT_A_NUMBER_from_0_to_8` by a digit from `0` to `8`. <br>The idea is to make you consume the web viewing service to display another product."
   ]
  },
  {
   "cell_type": "code",
   "execution_count": null,
   "metadata": {},
   "outputs": [],
   "source": [
    "# Try to change the Product_ID to be displayed in the Viewing Service.\n",
    "# Just increase the number of the value of the dictionary declared above\n",
    "# e.g. from 'list(pid_dict.values())[2]' to 'list(pid_dict.values())[5]'\n",
    "\n",
    "product_viewing =  viewing_URL_request + list(pid_dict.values())[5]\n",
    "\n",
    "IFrame(product_viewing, width=1000, height=600)"
   ]
  },
  {
   "cell_type": "markdown",
   "metadata": {},
   "source": [
    "- #### Future Graphical User Interface (GUI) for End-Users of INSITU Products."
   ]
  },
  {
   "cell_type": "markdown",
   "metadata": {},
   "source": [
    "If you are interested about getting marine information about the below IN SITU data type:"
   ]
  },
  {
   "cell_type": "markdown",
   "metadata": {},
   "source": [
    "![copernicus-insitu-data-type](https://i.imgur.com/U7rOR3Y.png \"Copernicus-Marine-Category-Data-Type-INSITU\")"
   ]
  },
  {
   "cell_type": "markdown",
   "metadata": {},
   "source": [
    "Then launch the below cell (by removing the comment `#`) and use the left panel to navigate on <a href=\"http://www.socib.es/users/protllan/INSTAC-DASHBOARD-ADVANCED/\" target=\"_blank\">this specific INSITU Viewer</a>."
   ]
  },
  {
   "cell_type": "code",
   "execution_count": null,
   "metadata": {},
   "outputs": [],
   "source": [
    "#IFrame('http://www.socib.es/users/protllan/INSTAC-DASHBOARD-ADVANCED/', width=1000, height=1200)"
   ]
  },
  {
   "cell_type": "markdown",
   "metadata": {
    "slideshow": {
     "slide_type": "-"
    }
   },
   "source": [
    "# WebService 4 - Download Products\n",
    "---"
   ]
  },
  {
   "cell_type": "code",
   "execution_count": null,
   "metadata": {},
   "outputs": [],
   "source": [
    "# Display HOWTO Video about DISCOVERING and SEARCHING for Copernicus Marine Product within the notebook\n",
    "HTML('<iframe width=\"560\" height=\"315\" src=\"https://www.youtube.com/embed/joQG3z6_Vpg?start=2\" frameborder=\"0\" allowfullscreen></iframe>')"
   ]
  },
  {
   "cell_type": "markdown",
   "metadata": {},
   "source": [
    "CopernicusMarine Download WebServices allow users to download products using different protocols:\n",
    " - HTTPS/HTTP (**MOTU**)\n",
    "   - **Subsetter :** The _Subsetter_ allows you to subset the data, and should be used if you wish to download a small part of the total dataset.\n",
    "   - **Direct Get File:** The _Direct Get File_ directly transfers the file as stored on the server. It is able to deliver compressed data and should be used if you wish to download larger datasets.\n",
    "   <br><br>\n",
    "   \n",
    " - FTP\n",
    "   - The *FTP download* allows to download an entire dataset directly from the FTP server at the supply center."
   ]
  },
  {
   "cell_type": "markdown",
   "metadata": {},
   "source": [
    "<div class=\"alert alert-block alert-warning\">\n",
    "\n",
    "\n",
    "Since FTP is relatively well-known and easy to integrate (no cookies required for authentication), we will **focus** this **notebook ONLY** on dealing with **MOTU SERVERS**."
   ]
  },
  {
   "cell_type": "markdown",
   "metadata": {},
   "source": [
    "<div class=\"alert alert-block alert-info\">\n",
    "\n",
    "\n",
    "**NOTE:**<br>\n",
    "\n",
    "---\n",
    "You can discover \"How to **download**, **plot** and **process IN SITU products** hosted on Copernicus Marine **FTP SERVERS**, using PYTHON\" in [these jupyter notebooks](https://github.com/CopernicusMarineInsitu/INSTACTraining-Phase2UPDATE)."
   ]
  },
  {
   "cell_type": "markdown",
   "metadata": {},
   "source": [
    "Let's get into more details about each web service."
   ]
  },
  {
   "cell_type": "markdown",
   "metadata": {},
   "source": [
    "**SUBSETTER :** User can retrieve a subset of gridded datasets through http and https protocol. The main idea is: download exactly what user needs. User can retrieve the needed variable, the geospatial coverage, the temporal coverage. \n",
    "There are two ways to access this service: \n",
    "- via Graphical User Interface (through the web portal)\n",
    "- or via a machine to machine interface (script). \n",
    "\n",
    "The advantages of the remote subset file service (SUBSETTER) are:\n",
    "\n",
    "- User minimizes the volume of data transiting on the network, and the volume of data to be stored on his computer.\n",
    "\n",
    "- User selects the different parameters of his request in a “easy to understand” way: variable can be selected via their names or standard names (from CF convention standard name table), date format is harmonized at CMEMS level (ex: 2013-02-22).\n",
    "\n",
    "- Information on dataset (notably the updated temporal coverage) and on the request (volume of the request), can be provided to user before running the request (via GUI or via script).\n",
    "\n",
    "\n",
    "**DIRECT GET FILE** : User can retrieve data files by selecting a temporal coverage through http and https protocol. \n",
    "There are two ways to access this service: \n",
    "- via Graphical User Interface (through the web portal)\n",
    "- or via a machine to machine interface (script). \n",
    "\n",
    "The advantages of the DIRECTGETFILE service are:\n",
    "\n",
    "- Download at once the entire geospatial coverage and all variable(s) of dataset.\n",
    "\n",
    "- Select temporal coverage in a “easy to understand” way: date format is harmonized at CMEMS level (ex: 2013-02-22).\n",
    "\n",
    "- Information on dataset (and notably the updated temporal coverage) and on the download request (notably the volume of the request), can be provided to user before running the request (via GUI or via script).\n",
    "\n",
    "\n",
    "**CMEMS FTP DOWNLOAD**: The user can retrieve data files by selecting files in a directory through FTP protocol. \n",
    "There are three ways to access this service: \n",
    "- via a web browser\n",
    "- via an FTP client with Graphical User Interface (user shall install this client on his computer before)\n",
    "- or via a machine to machine interface. \n",
    "\n",
    "The advantages of this service are:\n",
    "\n",
    "- Download at once the entire geospatial coverage and all variable(s) of dataset.\n",
    "\n",
    "- Performances of the server depend only on disk access performances and bandwidth.\n",
    "\n",
    "- FTP protocol is well known among users."
   ]
  },
  {
   "cell_type": "markdown",
   "metadata": {
    "nbpresent": {
     "id": "8ae406b7-1c7a-42b1-a71a-10ea98286f85"
    },
    "slideshow": {
     "slide_type": "slide"
    }
   },
   "source": [
    "## How to download a large amount of Copernicus Ocean Data (e.g. Temperature)\n",
    "---"
   ]
  },
  {
   "cell_type": "markdown",
   "metadata": {},
   "source": [
    "Let's check at first the list of all Ocean Analysis & Forecast Temperature Products available in the Copernicus Marine catalogue. We are going to focus actions on marine information provided by numerical model."
   ]
  },
  {
   "cell_type": "markdown",
   "metadata": {},
   "source": [
    "<div class=\"alert alert-block alert-success\">\n",
    "\n",
    "### ACTION 6\n",
    "\n",
    "**Selecting Ocean Products - Temperature Case Study over Moroccan Coast**\n",
    "\n",
    "Check in details Copernicus Ocean (model) Products."
   ]
  },
  {
   "cell_type": "code",
   "execution_count": null,
   "metadata": {},
   "outputs": [],
   "source": [
    "# Create tables which contain search parameters (variable and area)\n",
    "\n",
    "# Create a table including Temperature and Salinity (will be useful later)\n",
    "var_table = [\"Temperature\",\"Salinity\"]\n",
    "\n",
    "# Create a table including the 'all oceans' area parameter\n",
    "area_table = [\"all\"]\n",
    "\n",
    "# Define the metadata search pattern\n",
    "advancedsearch_var = \"&advancedsearch-ocean_variables[]=advancedsearch-ocean_variables-\"\n",
    "advancedsearch_area = \"&advancedsearch-geographical_area[]=advancedsearch-geographical_area-\"\n",
    "\n",
    "# Recreate the search URL\n",
    "search_URL_request = \"http://resources.marine.copernicus.eu/?option=com_csw&task=results\"\n",
    "search_URL = search_URL_request + \\\n",
    "    advancedsearch_var + \\\n",
    "    var_table[0] + \\\n",
    "    advancedsearch_var + \\\n",
    "    var_table[1] + \\\n",
    "    advancedsearch_area + \\\n",
    "    area_table[0]\n",
    "\n",
    "# Display the result in the notebook\n",
    "IFrame((search_URL), width=1000, height=1000)"
   ]
  },
  {
   "cell_type": "markdown",
   "metadata": {},
   "source": [
    "<div class=\"alert alert-block alert-info\">\n",
    "\n",
    "\n",
    "The catalogue is now displaying **37 Ocean products** which contain **AT LEAST BOTH** Temperature and Salinity data. "
   ]
  },
  {
   "cell_type": "markdown",
   "metadata": {},
   "source": [
    "<div class=\"alert alert-block alert-info\">\n",
    "\n",
    "\n",
    "**TIPS :** You could have used the left panel of the catalogue to get the same result, by ticking these checkboxes:\n",
    "\n",
    "- Area : `Global Ocean` then `Iberia-Biscay-Ireland Regional seas`\n",
    "- Parameters : `Temperature` then `Salinity`"
   ]
  },
  {
   "cell_type": "markdown",
   "metadata": {},
   "source": [
    "<div class=\"alert alert-block alert-success\">\n",
    "\n",
    "\n",
    "### ACTION 7\n",
    "\n",
    "**Browsing Scientific Documentation**\n",
    "\n",
    "For each product, there is :\n",
    "- A Product User Manual (shortened as PUM)\n",
    "- A QUality Information Document (shortened as QUID) "
   ]
  },
  {
   "cell_type": "markdown",
   "metadata": {},
   "source": [
    "Now, let's check the CopernicusMarine Product Documentations of each products."
   ]
  },
  {
   "cell_type": "markdown",
   "metadata": {},
   "source": [
    "<div class=\"alert alert-block alert-info\">\n",
    "\n",
    "**TIPS :** More details about how to access scientific documentations of CopernicusMarine Product : http://marine.copernicus.eu/faq/how-can-i-access-the-documentation-associated-to-a-product/?idpage=169\n",
    "\n",
    "Those documents are helpful to decide which products are the more relevant for your needs."
   ]
  },
  {
   "cell_type": "code",
   "execution_count": null,
   "metadata": {
    "nbpresent": {
     "id": "40b0f66b-5564-4076-b566-018638b61c69"
    }
   },
   "outputs": [],
   "source": [
    "# Example for browsing Product User Manual (PUM)\n",
    "\n",
    "PUM_library = \"http://marine.copernicus.eu/documents/PUM/CMEMS-\"\n",
    "PUM_table = [\"GLO-PUM-001-024.pdf\", \"IBI-PUM-005-001.pdf\"]"
   ]
  },
  {
   "cell_type": "markdown",
   "metadata": {},
   "source": [
    "Let's display `Product User Manual (PUM)` of the GLOBAL OCEAN 1/12° PHYSICS ANALYSIS AND FORECAST UPDATED DAILY product whose product identifier is `GLOBAL_ANALYSIS_FORECAST_PHY_001_024`."
   ]
  },
  {
   "cell_type": "code",
   "execution_count": null,
   "metadata": {},
   "outputs": [],
   "source": [
    "IFrame((PUM_library + PUM_table[0]), width=1000, height=500)"
   ]
  },
  {
   "cell_type": "markdown",
   "metadata": {},
   "source": [
    "Then, let's display Product User Manual of the ATLANTIC-IBERIAN BISCAY IRISH- OCEAN PHYSICS ANALYSIS AND FORECAST product whose product identifier is `IBI_ANALYSIS_FORECAST_PHYS_005_001`."
   ]
  },
  {
   "cell_type": "code",
   "execution_count": null,
   "metadata": {},
   "outputs": [],
   "source": [
    "IFrame((PUM_library + PUM_table[1]), width=1000, height=500)"
   ]
  },
  {
   "cell_type": "code",
   "execution_count": null,
   "metadata": {
    "nbpresent": {
     "id": "40b0f66b-5564-4076-b566-018638b61c69"
    }
   },
   "outputs": [],
   "source": [
    "# Example for browsing QUality Information Document (QUID)\n",
    "\n",
    "QUID_library = \"http://marine.copernicus.eu/documents/QUID/CMEMS-\"\n",
    "QUID_table = [\"GLO-QUID-001-024.pdf\", \"IBI-QUID-005-001.pdf\"]"
   ]
  },
  {
   "cell_type": "markdown",
   "metadata": {},
   "source": [
    "Let's display `QUality Information Docuement (QUID)` of the GLOBAL OCEAN 1/12° PHYSICS ANALYSIS AND FORECAST UPDATED DAILY product whose product identifier is `GLOBAL_ANALYSIS_FORECAST_PHY_001_024`."
   ]
  },
  {
   "cell_type": "code",
   "execution_count": null,
   "metadata": {},
   "outputs": [],
   "source": [
    "IFrame((QUID_library + QUID_table[0]), width=1000, height=500)"
   ]
  },
  {
   "cell_type": "markdown",
   "metadata": {},
   "source": [
    "Then, let's display `QUality Information Document (QUID)` of the ATLANTIC-IBERIAN BISCAY IRISH- OCEAN PHYSICS ANALYSIS AND FORECAST product whose product identifier is `IBI_ANALYSIS_FORECAST_PHYS_005_001`."
   ]
  },
  {
   "cell_type": "code",
   "execution_count": null,
   "metadata": {},
   "outputs": [],
   "source": [
    "IFrame((QUID_library + QUID_table[1]), width=1000, height=500)"
   ]
  },
  {
   "cell_type": "markdown",
   "metadata": {},
   "source": [
    "<div class=\"alert alert-block alert-info\">\n",
    "\n",
    "**Conclusion**:\n",
    "\n",
    "---\n",
    "We selected both CopernicuMarine GLOBAL & IBI ANALYSIS and FORECAST Products and we want to **download only daily mean temperature** over a **small boundingbox**: the maroccan ocean&sea."
   ]
  },
  {
   "cell_type": "markdown",
   "metadata": {},
   "source": [
    "In this example, we'll constraint our script to download two model products, referenced below :\n",
    "\n",
    "| Model | CMEMS ID | Product Sheet    \n",
    "|------|------|------\n",
    "|MERCATOR|GLOBAL_ANALYSIS_FORECAST_PHY_001_024|http://marine.copernicus.eu/services-portfolio/access-to-products/?option=com_csw&view=details&product_id=GLOBAL_ANALYSIS_FORECAST_PHY_001_024\n",
    "|PUERTOS|IBI_ANALYSIS_FORECAST_PHYS_005_001|http://marine.copernicus.eu/services-portfolio/access-to-products/?option=com_csw&view=details&product_id=IBI_ANALYSIS_FORECAST_PHYS_005_001\n",
    "\n",
    "\n",
    "\n"
   ]
  },
  {
   "cell_type": "markdown",
   "metadata": {},
   "source": [
    "<div class=\"alert alert-block alert-info\">\n",
    "\n",
    "**TIPS :** As you can see, a **Product Description** may be queried using either the GUI (Graphical User Interface) OR an XML file. \n",
    "\n",
    "- For GUI response in a web browser :\n",
    "http://marine.copernicus.eu/services-portfolio/access-to-products/?option=com_csw&view=details&product_id=${cmems_id}\n",
    "\n",
    "- For XML response in a file to download :\n",
    "http://marine.copernicus.eu/services-portfolio/access-to-products/?option=com_csw&view=details&product_id=${cmems_id}&format=xml"
   ]
  },
  {
   "cell_type": "markdown",
   "metadata": {},
   "source": [
    "<div class=\"alert alert-block alert-success\">\n",
    "\n",
    "\n",
    "### ACTION 8\n",
    "\n",
    "**Download a subset of Ocean Model Products.**\n"
   ]
  },
  {
   "cell_type": "markdown",
   "metadata": {},
   "source": [
    "<div class=\"alert alert-block alert-warning\">\n",
    "\n",
    "<center><b>IMPORTANT</b></center>\n",
    "    <center><b>READ AT FIRST THE 4 BELOW GREEN CELLS and THEN execute actions</b></center>"
   ]
  },
  {
   "cell_type": "markdown",
   "metadata": {},
   "source": [
    "<div class=\"alert alert-block alert-success\">\n",
    "\n",
    "### ACTION 8.1.\n",
    "\n",
    "**Add to your Copernicus Marine Bookmark both products**\n",
    "\n",
    "(by clicking on the **'ADD TO CART'** icon next to the \"MORE INFO\" button, as shown below) \n",
    "\n",
    "- \"GLOBAL_ANALYSIS_FORECAST_PHY_001_024\"\n",
    "- \"IBI_ANALYSIS_FORECAST_PHYS_005_001\""
   ]
  },
  {
   "cell_type": "markdown",
   "metadata": {
    "collapsed": true
   },
   "source": [
    "![add-products-to-bookmark](https://i.imgur.com/5XatSXM.png \"add-products-to-bookmark\")"
   ]
  },
  {
   "cell_type": "markdown",
   "metadata": {},
   "source": [
    "<center>Fig.8.1 : This picture shows how to ADD a product to your BOOKMARK.</center>"
   ]
  },
  {
   "cell_type": "markdown",
   "metadata": {},
   "source": [
    "<div class=\"alert alert-block alert-success\">\n",
    "\n",
    "### ACTION 8.2.\n",
    "\n",
    "**And then click on \"DATA DOWNLOAD\" button in the top pop-up menu (between \"VIEW\" and \"REMOVE\") to acccess the DATA EXTRACTION settings.**"
   ]
  },
  {
   "cell_type": "markdown",
   "metadata": {},
   "source": [
    "![access-data-extraction-settings](https://i.imgur.com/LDWjV76.png \"Access Data Extraction Settings\")"
   ]
  },
  {
   "cell_type": "markdown",
   "metadata": {},
   "source": [
    "<center>Fig.8.2 : This picture shows how to ACCESS the DATA EXTRACTION service.</center>"
   ]
  },
  {
   "cell_type": "markdown",
   "metadata": {},
   "source": [
    "<div class=\"alert alert-block alert-success\">\n",
    "\n",
    "### Action 8.3.\n",
    "\n",
    "**Enter the Copernicus Marine Crendetials given by your Lecturer for the CRTS-DEC2018 Event or use your own username and password.**"
   ]
  },
  {
   "cell_type": "markdown",
   "metadata": {},
   "source": [
    "![authenticate](https://i.imgur.com/JoqO5Wt.png \"Authenticate\")"
   ]
  },
  {
   "cell_type": "markdown",
   "metadata": {},
   "source": [
    "<center>Fig.8.3 : This picture shows the SIGN IN webpage to enter USERNAME and PASSWORD.</center>"
   ]
  },
  {
   "cell_type": "markdown",
   "metadata": {},
   "source": [
    "<div class=\"alert alert-block alert-success\">\n",
    "\n",
    "### Action 8.4.\n",
    "\n",
    "**Select the datasets for dailymean resolution:**\n",
    "- \"GLOBAL_ANALYSIS_FORECAST_PHY_001_024\" -> \"global-analysis-forecast-phy-001-024\"\n",
    "- \"IBI_ANALYSIS_FORECAST_PHYS_005_001\" -> \"dataset-ibi-analysis-forecast-phys-005-001-daily\"\n",
    "\n",
    "### Action 8.5.\n",
    "\n",
    "**Set your data extractions settings as bellow:**\n",
    "- **Geographical area**: -19W, 5E, 26N, 40N<br>\n",
    "- **Time Range**: leave it as it is (only one day for this example)<br>\n",
    "- **Depth**: leave it as it is (only surface for this example)<br>\n",
    "- **Variables**: click on **\"Uncheck all\"** and **tick only** the checkbox for the **Temperature**<br>\n",
    "\n",
    "### Action 8.6\n",
    "\n",
    "**Click on \"DATA ACCESS OPTION\" button; located either on:**\n",
    "- the bottom end of the page\n",
    "- or up right corner.\n",
    "\n",
    "<br>It allows to access the Download Option Access (such as MOTU Subsetter, MOTU DirectGetFile, FTP if available)"
   ]
  },
  {
   "cell_type": "markdown",
   "metadata": {},
   "source": [
    "Now that we have read all the desired actions and seen what webpages look like thanks to screenshots, let's execute the below cell and perform within each action."
   ]
  },
  {
   "cell_type": "code",
   "execution_count": null,
   "metadata": {
    "scrolled": false
   },
   "outputs": [],
   "source": [
    "# Execute this cell and perform the above actions (from 9.1 to 9.6)\n",
    "IFrame((search_URL), width=1000, height=1000) "
   ]
  },
  {
   "cell_type": "markdown",
   "metadata": {},
   "source": [
    "<div class=\"alert alert-block alert-success\">\n",
    "\n",
    "### ACTION 9\n",
    "\n",
    "**Downloading the piece of data (subset of netCDF file)**\n",
    "\n",
    "The \"DOWNLOAD\" buttons appear. <br>\n",
    "The size of the data extraction request is displayed depending on the Download Access Option (either Subsetter or DirectGetFile).\n",
    "<br><br>\n",
    "If you click on **\"DOWNLOAD NETCDF FILE SUBSETTED BY ALL CRITERIA\"** button within the **SUBSETTER Part**, your extraction will be **performed by the server** and your dataset will be **AUTOMATICALLY downloaded when ready**."
   ]
  },
  {
   "cell_type": "markdown",
   "metadata": {},
   "source": [
    "A netCDF file corresponding the data of your needs is now downloaded and saved in your default directory (most of the time, `Downloads` folder)."
   ]
  },
  {
   "cell_type": "markdown",
   "metadata": {},
   "source": [
    "**QUESTION**: But what if you want to download an extraction for **several years** and not only one timespan of dailymean temperature data?\n",
    "<br>The problem is that there is a good chance you'll reach the treshold set on the data size of the output NetCDF file.\n",
    "> **ANSWER**: We are going to use a _script_ which will **perform as many extraction requests** as required to cover **the whole timerange of your interest**."
   ]
  },
  {
   "cell_type": "markdown",
   "metadata": {},
   "source": [
    "**QUESTION**: How to get the values of the parameters to insert in the script ?\n",
    ">**ANSWER**: We are going to use a feature of the Copernicus Marine Website (triggered by the \"VIEW SCRIPT\" button) which allow to **generate automatically** the right **syntax of extraction settings** to place in the script."
   ]
  },
  {
   "cell_type": "markdown",
   "metadata": {},
   "source": [
    "<div class=\"alert alert-block alert-success\">\n",
    "    \n",
    "### ACTION 10\n",
    "\n",
    "\n",
    "**Installing the Copernicus Marine downloader** \n",
    "\n",
    "(OPTIONAL FOR CRTS-DEC2018, see below comment)"
   ]
  },
  {
   "cell_type": "markdown",
   "metadata": {},
   "source": [
    "Let's retrieve the open-source python tool to establish connection between MOTU servers and Copernicus Marine Data.\n",
    ">We followed this article: http://marine.copernicus.eu/faq/what-are-the-motu-and-python-requirements/?idpage=169"
   ]
  },
  {
   "cell_type": "markdown",
   "metadata": {
    "collapsed": true
   },
   "source": [
    "In a terminal, issue the following command line:\n",
    "`pip install motuclient`"
   ]
  },
  {
   "cell_type": "markdown",
   "metadata": {},
   "source": [
    "<div class=\"alert alert-block alert-warning\">\n",
    "\n",
    "**IMPORTANT**: For CTRS-DEC2018 event, you do not need to install `motuclient` since it's already provided in your environment."
   ]
  },
  {
   "cell_type": "markdown",
   "metadata": {},
   "source": [
    "<div class=\"alert alert-block alert-success\">\n",
    "\n",
    "### ACTION 11\n",
    "\n",
    "**Creating a basic script to subset and download NetCDF file**\n",
    "\n",
    "Trigger the \"VIEW SCRIPT\" button  to generate automatically parameters of extraction settings:\n",
    "\n",
    "11.1 First **click on** the **\"VIEW SCRIPT\"** button<br>\n",
    "12.2. And then **COPY** and **PASTE** the parameters, following the advice given in the below cells "
   ]
  },
  {
   "cell_type": "markdown",
   "metadata": {},
   "source": [
    "![without-view-script](https://i.imgur.com/YRAQTyX.png \"Without view script\")"
   ]
  },
  {
   "cell_type": "markdown",
   "metadata": {},
   "source": [
    "<center>Fig.11.1 : This picture shows the VIEW SCRIPT button to activate.<center>"
   ]
  },
  {
   "cell_type": "markdown",
   "metadata": {},
   "source": [
    "![with-view-script-enabled](https://i.imgur.com/akzVnFt.png \"With View Script Enabled\")"
   ]
  },
  {
   "cell_type": "markdown",
   "metadata": {},
   "source": [
    "<center>Fig.11.2 : This picture shows the syntax of parameters to insert in scripts.<center>"
   ]
  },
  {
   "cell_type": "markdown",
   "metadata": {},
   "source": [
    "<div class=\"alert alert-block alert-info\">\n",
    "<b>TIPS :</b>\n",
    "    \n",
    "---\n",
    "If you don't remember how to do it and if you don't want to scroll up and down within the notebook, then execute the below IFrame cell. **Otherwise, you can go to the \"import module\" cell**."
   ]
  },
  {
   "cell_type": "code",
   "execution_count": null,
   "metadata": {},
   "outputs": [],
   "source": [
    "IFrame(\"http://marine.copernicus.eu/faq/how-to-write-and-run-the-script-to-download-cmems-products-through-subset-or-direct-download-mechanisms/?idpage=169\", width=1000, height=500)"
   ]
  },
  {
   "cell_type": "markdown",
   "metadata": {},
   "source": [
    "It should like the following:<br><br>\n",
    "`python <PATH_TO_MOTUCLIENT_DIR>/motu-client.py --user <USERNAME> --pwd <PASSWORD> --motu http://nrt.cmems-du.eu/motu-web/Motu --service-id IBI_ANALYSIS_FORECAST_PHYS_005_001-TDS --product-id dataset-ibi-analysis-forecast-phys-005-001-daily --longitude-min -19 --longitude-max 5.000736236572266 --latitude-min 26 --latitude-max 40 --date-min \"2018-12-22 12:00:00\" --date-max \"2018-12-22 12:00:00\" --depth-min 0.493 --depth-max 0.4942 --variable thetao --variable so --out-dir <OUTPUT_DIR> --out-name <OUTPUT_FILENAME>`"
   ]
  },
  {
   "cell_type": "markdown",
   "metadata": {},
   "source": [
    "<div class=\"alert alert-block alert-info\">\n",
    "\n",
    "**TIPS :** Running the above command line in a cell (or your terminal) will result in submitting a job to the server to create a piece of dataset and request its download as soon as it's ready.\n",
    "\n",
    "**Note**: Of course, you need to replace `<VALUE>` according to your preferences before running it."
   ]
  },
  {
   "cell_type": "markdown",
   "metadata": {},
   "source": [
    "<div class=\"alert alert-block alert-success\">\n",
    "\n",
    "\n",
    "### ACTION 12\n",
    "\n",
    "**Creating an advanced script to subset and download NetCDF files by years**\n",
    "\n",
    "Create a (python) script to download a large amount of data, year by years."
   ]
  },
  {
   "cell_type": "markdown",
   "metadata": {},
   "source": [
    "<div class=\"alert alert-block alert-warning\">\n",
    "\n",
    "**REMINDER**\n",
    "- - - - -\n",
    "\n",
    "<center><i>TO BE READ ONLY IF, during the training, there has been a break between `Action 11` and `Action 12`</i></center>\n",
    "\n",
    "Please check this article for other examples : \n",
    " http://marine.copernicus.eu/faq/can-you-give-a-few-examples-of-command-lines-to-download/?idpage=169\n",
    "\n",
    "I would also highly recommend you to check [this one](http://marine.copernicus.eu/faq/how-to-write-and-run-the-script-to-download-cmems-products-through-subset-or-direct-download-mechanisms/?idpage=169) to get an in-depth understanding of how it works and how to get the required parameters for your data extraction request.\n",
    "\n",
    "<b>/!\\ all Copernicus Marine products are NOT hosted by a single server - they are grouped by product type (MultiYear vs NearRealTime), and you can always rely on the \"VIEW SCRIPT\" button to get the right parameters /!\\</b>\n"
   ]
  },
  {
   "cell_type": "markdown",
   "metadata": {},
   "source": [
    "<div class=\"alert alert-block alert-success\">\n",
    "\n",
    "\n",
    "### ACTION 12.1\n",
    "\n",
    "**Import Modules**"
   ]
  },
  {
   "cell_type": "markdown",
   "metadata": {},
   "source": [
    "At first, we need to import required modules to perform the algorithm of our script."
   ]
  },
  {
   "cell_type": "code",
   "execution_count": null,
   "metadata": {},
   "outputs": [],
   "source": [
    "# We need to import some modules, let's do it once and for all.\n",
    "import os\n",
    "import platform\n",
    "import subprocess\n",
    "import datetime as dt\n",
    "import time\n",
    "import calendar\n",
    "import sys\n",
    "\n",
    "try:\n",
    "    from pathlib import Path\n",
    "except ImportError:\n",
    "    print(\"Trying to Install required module: pathlib\\n\")\n",
    "    os.system('python -m pip install pathlib')\n",
    "try:\n",
    "    from pathlib import Path\n",
    "except ImportError:\n",
    "    print(\"\"\"You need pathlib module.\n",
    "                Install it from https://pypi.org/project/pathlib/\n",
    "                or (recommended) run in a new cell: !pip install pathlib.\"\"\")"
   ]
  },
  {
   "cell_type": "markdown",
   "metadata": {},
   "source": [
    "<div class=\"alert alert-block alert-success\">\n",
    "\n",
    "\n",
    "### ACTION 12.2\n",
    "\n",
    "**Set General Parameters**"
   ]
  },
  {
   "cell_type": "markdown",
   "metadata": {},
   "source": [
    "\n",
    "####  [General Parameters]\n",
    "\n",
    "Usually, you should modify the below parameters with your local values.\n",
    "\n",
    "_NOT required for the machine prepared by the staff for the CRTS-DEC2018 event_ but necessarely if you want to use this script from another machine. <br>\n",
    "<br>You would have to change :\n",
    "- your username (log_cmems)\n",
    "- your password (pwd_cmems)\n",
    "- path to output directory to store the output netcdf file (marine data)\n",
    "\n",
    "**Important**: you can execute the below cell as is since it's already well configured."
   ]
  },
  {
   "cell_type": "code",
   "execution_count": null,
   "metadata": {},
   "outputs": [],
   "source": [
    "# - - - - - - - - - - - - - - - - - - - - - - - - - - - - - - - -\n",
    "# General Parameters - Tools - Proxy Network - Output Directory\n",
    "# - - - - - - - - - - - - - - - - - - - - - - - - - - - - - - - -\n",
    "\n",
    "# Path declaration to the motu-client.py opensource-TOOLS to connect to MOTU CopernicusMarineHub.\n",
    "# If you are not sure, please read the article on \"python basic requirements\":\n",
    "# http://marine.copernicus.eu/faq/what-are-the-motu-and-python-requirements/?idpage=169\n",
    "motu_cl = \"python -m motuclient\"\n",
    "\n",
    "# File to log unsuccessful data extraction request(s)\n",
    "logfile = 'logfile.txt'\n",
    "\n",
    "# Copernicus Marine API Key - Login Credentials \n",
    "username_cmems = 'trainingcrts2018'\n",
    "password_cmems = 'trainingcrts2018'\n",
    "\n",
    "# Proxy Configuration\n",
    "# Please replace \"False\" by \"True\" if you use a proxy to connect to internet and fill in the below variables.\n",
    "proxy_flag = False\n",
    "proxy_server_url = \"http://your_proxy_url.com\"\n",
    "proxy_server_port = \"port\"\n",
    "proxy_user_login = \"your_proxy_user_login\"\n",
    "proxy_user_password = \"your_proxy_user_password\"\n",
    "\n",
    "# Output directory name to store the Copernicus Marine data\n",
    "# If only 'folder-name' is given (not in absolute path), then it will be created in the current directory\n",
    "local_storage_directory_name = 'data/copernicus-marine-data'"
   ]
  },
  {
   "cell_type": "markdown",
   "metadata": {},
   "source": [
    "<div class=\"alert alert-block alert-success\">\n",
    "\n",
    "\n",
    "### ACTION 12.3\n",
    "\n",
    "**Set Ocean Product(s) Parameters**"
   ]
  },
  {
   "cell_type": "markdown",
   "metadata": {},
   "source": [
    "####  [Product Parameters]\n",
    "\n",
    "Then we create a dictionary (kind of table) to set `product parameters` such as:\n",
    "- product identifier\n",
    "- dataset identifier\n",
    "- variable(s)\n",
    "- and motu server. "
   ]
  },
  {
   "cell_type": "markdown",
   "metadata": {},
   "source": [
    "<div class=\"alert alert-block alert-warning\">\n",
    "\n",
    "\n",
    "We'll download only the data amount that is really needed (piece of data matching our needs).\n",
    "\n",
    "**Important**: you can execute the below cell \"as is\" since it's already configured to target products of our interest."
   ]
  },
  {
   "cell_type": "code",
   "execution_count": null,
   "metadata": {},
   "outputs": [],
   "source": [
    "# - - - - - - - - - - - - - - - - - - - - - - - - -\n",
    "# Product(s), Dataset(s) and MOTU server Parameters \n",
    "# - - - - - - - - - - - - - - - - - - - - - - - - -\n",
    "\n",
    "# CMEMS Variables & Dataset ID & Service ID & MOTU server ID\n",
    "# Define a dict to get required parameters of our daily temperature data request. \n",
    "# It should looks like:\n",
    "#                      {file_name (defined by yourself for practical reason): \\\n",
    "#                        [variable (aka -v), \\\n",
    "#                        dataset_id (aka -d), \\\n",
    "#                        product_id (aka -s), \\\n",
    "#                        motu_id (aka -m)]\n",
    "#                        }\n",
    "\n",
    "#  -v VARIABLE, --variable=VARIABLE\n",
    "#                        The variable (list of strings)\n",
    "#  -d PRODUCT_ID, --product-id=PRODUCT_ID\n",
    "#                        The product (data set) to download (string)\n",
    "#  -m MOTU, --motu=MOTU\n",
    "#                        The motu server to use (url)\n",
    "#  -s SERVICE_ID, --service-id=SERVICE_ID\n",
    "#                        The service identifier (string)\n",
    "\n",
    "# /!\\ all CMEMS products are NOT hosted by a single server - they are grouped by product family,\n",
    "# You can always rely on the \"VIEW SCRIPT\" button of the Copernicus Marine Website (marine.copernicus.eu),\n",
    "# using its DataExtraction WebInterface (also called GUI).\n",
    "# It will generate the parameters of your extraction settings based on your selection.\n",
    "# Please refer to this article to understand how to call/trigger this webservice/feature to generate\n",
    "# the right parameters : http://marine.copernicus.eu/faq/how-to-write-and-run-the-script-to-download-cmems-products-through-subset-or-direct-download-mechanisms/?idpage=169\n",
    "\n",
    "dict_id = {\"Temperature_Dailymean_MERCATOR\": \\\n",
    "           [\"-v sea_water_potential_temperature\", \"-d global-analysis-forecast-phy-001-024\", \\\n",
    "            \"-s GLOBAL_ANALYSIS_FORECAST_PHY_001_024-TDS\", \\\n",
    "            \"-m http://nrt.cmems-du.eu/motu-web/Motu\"], \\\n",
    "           \"Temperature_Dailymean_PUERTOS\": \\\n",
    "           [\"-v sea_water_potential_temperature\", \"-d dataset-ibi-analysis-forecast-phys-005-001-daily\", \\\n",
    "            \"-s IBI_ANALYSIS_FORECAST_PHYS_005_001-TDS\", \\\n",
    "            \"-m http://nrt.cmems-du.eu/motu-web/Motu\"]\n",
    "          }"
   ]
  },
  {
   "cell_type": "markdown",
   "metadata": {},
   "source": [
    "<div class=\"alert alert-block alert-info\">\n",
    "    <b>TO GO FURTHER</b> (not recommened to do it now)\n",
    "\n",
    "- - - - -\n",
    "What if I want to download other variables from other datasets?\n",
    "\n",
    "Read the next cell, and if you want to execute it, then uncomment all lines from the 'dict_id', at first."
   ]
  },
  {
   "cell_type": "code",
   "execution_count": null,
   "metadata": {},
   "outputs": [],
   "source": [
    "# If you want to add other datasets (like SALINITY in dailymean for both products and TEMPERATURE in hourlymean)\n",
    "# then simply define a dict like this one:\n",
    "\n",
    "# dict_id = {\"Temperature_Salinity_Dailymean_MERCATOR\": \\\n",
    "#            [\"-v sea_water_potential_temperature -v sea_water_salinity\", \\\n",
    "#             \"-d global-analysis-forecast-phy-001-024\", \\\n",
    "#             \"-s GLOBAL_ANALYSIS_FORECAST_PHY_001_024-TDS\", \\\n",
    "#             \"-m http://nrt.cmems-du.eu/motu-web/Motu\"], \\\n",
    "#            \"Temperature_Dailymean_PUERTOS\": \\\n",
    "#            [\"-v sea_water_potential_temperature\", \\\n",
    "#             \"-d dataset-ibi-analysis-forecast-phys-005-001-daily\", \\\n",
    "#             \"-s IBI_ANALYSIS_FORECAST_PHYS_005_001-TDS\", \\\n",
    "#             \"-m http://nrt.cmems-du.eu/motu-web/Motu\"], \\\n",
    "#            \"Salinity_Dailymean_PUERTOS\": \\\n",
    "#            [\"-v sea_water_salinity\", \\\n",
    "#             \"-d dataset-ibi-analysis-forecast-phys-005-001-daily\", \\\n",
    "#             \"-s IBI_ANALYSIS_FORECAST_PHYS_005_001-TDS\", \\\n",
    "#             \"-m http://nrt.cmems-du.eu/motu-web/Motu\"], \\\n",
    "#            \"Temperature_Hourlymean_MERCATOR\": \\\n",
    "#            [\"-v sea_water_potential_temperature\", \\\n",
    "#             \"-d global-analysis-forecast-phy-001-024-t-u-v-ssh\", \\\n",
    "#             \"-s GLOBAL_ANALYSIS_FORECAST_PHY_001_024-TDS\", \\\n",
    "#             \"-m http://nrt.cmems-du.eu/motu-web/Motu\"]\n",
    "#         }"
   ]
  },
  {
   "cell_type": "markdown",
   "metadata": {},
   "source": [
    "<div class=\"alert alert-block alert-success\">\n",
    "\n",
    "\n",
    "### ACTION 12.4\n",
    "\n",
    "**Set Data Extraction Parameters**"
   ]
  },
  {
   "cell_type": "markdown",
   "metadata": {},
   "source": [
    "\n",
    "### Parameters of the request to download SEVERAL YEARS with daily means\n",
    "---\n",
    "\n",
    "####  [Data Extraction Parameters]\n",
    "\n",
    "Usually, you should modify the below parameters with your own extraction settings values to get the piece of data of your interest.\n",
    "\n",
    "You can edit these values to change :\n",
    "- the timerange and/or \n",
    "- the geographical area and/or \n",
    "- the depth.\n",
    "\n",
    "**Important**: you can execute the below cell as is since it's already configured to do an extraction over Marocco ocean&sea for years 2017 and 2018."
   ]
  },
  {
   "cell_type": "code",
   "execution_count": null,
   "metadata": {
    "nbpresent": {
     "id": "2600fa58-e1b8-4e8c-91ef-5ea1bd58ea73"
    },
    "slideshow": {
     "slide_type": "subslide"
    }
   },
   "outputs": [],
   "source": [
    "# [Data Extraction Parameters]\n",
    "\n",
    "# - - - - - - - - - - - - - - - - - - - - - -\n",
    "# Geographical Area Parameters and Timerange\n",
    "# - - - - - - - - - - - - - - - - - - - - - -\n",
    "\n",
    "#  -y LATITUDE_MIN, --latitude-min=LATITUDE_MIN\n",
    "#                        The min latitude (float in the interval [-90 ; 90])\n",
    "#  -Y LATITUDE_MAX, --latitude-max=LATITUDE_MAX\n",
    "#                        The max latitude (float in the interval [-90 ; 90])\n",
    "#  -x LONGITUDE_MIN, --longitude-min=LONGITUDE_MIN\n",
    "#                        The min longitude (float in the interval [-180 ; 180])\n",
    "#  -X LONGITUDE_MAX, --longitude-max=LONGITUDE_MAX\n",
    "#                        The max longitude (float in the interval [-180 ; 180])\n",
    "#  -z DEPTH_MIN, --depth-min=DEPTH_MIN\n",
    "#                        The min depth (float in the interval [0 ; 2e31] or\n",
    "#                        string 'Surface')\n",
    "#  -Z DEPTH_MAX, --depth-max=DEPTH_MAX\n",
    "#                        The max depth (float in the interval [0 ; 2e31] or\n",
    "#                        string 'Surface')\n",
    "\n",
    "\n",
    "# Area : x east-west longitude, y north-south latitude, z depth\n",
    "xmin_longitude = \"-19\"\n",
    "xmax_longitude = \"5\"\n",
    "ymin_latitude = \"26\"\n",
    "ymax_latitude = \"40\"\n",
    "zmin_depth = \"Surface\"\n",
    "zmax_depth = \"1\"\n",
    "\n",
    "# Date - Timerange\n",
    "yyyystart = 2017\n",
    "mmstart = 1\n",
    "yyyyend = 2018\n",
    "mmend = 12\n",
    "hhstart = \" 12:00:00\"\n",
    "hhend = \" 12:00:00\"\n",
    "dd = 1\n",
    "\n",
    "# Output prefix file name\n",
    "pre_name = \"CMEMS_Yearly_\""
   ]
  },
  {
   "cell_type": "markdown",
   "metadata": {},
   "source": [
    "<div class=\"alert alert-block alert-success\">\n",
    "\n",
    "\n",
    "### ACTION 12.5\n",
    "\n",
    "**Starting scripts to subset and download NetCDF files by year**"
   ]
  },
  {
   "cell_type": "markdown",
   "metadata": {},
   "source": [
    "<div class=\"alert alert-block alert-warning\">\n",
    "\n",
    "<center><b>Main Program</b></center>\n",
    "\n",
    "<center><b>Motu Client Call through Python Loop over Years</b></center>\n",
    "\n",
    "- - - - -\n",
    "\n",
    " For this training, you **SHOULD NOT** modify the content of the below cell. Would you have any question, feel free to contact our [Customer Support Service](http://marine.copernicus.eu/services-portfolio/contact-us/)."
   ]
  },
  {
   "cell_type": "code",
   "execution_count": null,
   "metadata": {
    "scrolled": false
   },
   "outputs": [],
   "source": [
    "# THIS CELL NEED TO BE EXECUTED WITHOUT BEING MODIFIED\n",
    "# Check motuclient \n",
    "try:\n",
    "    import motuclient\n",
    "except ImportError:\n",
    "    print('\\nThe module motuclient was not found. To overcome this problem, please:\\n- Open a terminal and type in: pip install motuclient\\nOr\\n- Create a new cell and write in: !pip install motuclient')\n",
    "    sys.exit()\n",
    "\n",
    "if not Path(local_storage_directory_name).exists():\n",
    "    Path(local_storage_directory_name).mkdir(parents=True)\n",
    "\n",
    "# Flags to let the server clears the buffer - better to be respectful when retrieving OPEN data\n",
    "buffer_flag = False\n",
    "cmd_flag = False\n",
    "\n",
    "# Error Handle on dates (to illustrate an if statement with eval param '>')\n",
    "if yyyystart > yyyyend:\n",
    "    print(\"[ERROR] in [Date Parameters]\")\n",
    "    print(\"\"\"Please double check your date parameters, specifically the \"yyyystart\" which is currently greater than \"yyyyend.\"\"\")\n",
    "    print(\"\"\"End of data extraction service.\"\"\")\n",
    "    sys.exit()\n",
    "\n",
    "# Other variable definitions to be compatible with deprecated script versions still available on the Internet\n",
    "local_storage_directory_name = Path(local_storage_directory_name)\n",
    "logfilepath = local_storage_directory_name.absolute() / logfile\n",
    "log_cmems = \"-u \" + username_cmems\n",
    "pwd_cmems = \"-p \" + password_cmems\n",
    "pre_fic_cmd = \"-f \"+ pre_name\n",
    "out_cmd = \"-o \" + str(local_storage_directory_name.absolute())\n",
    "proxy_user = \"--proxy-user \" + proxy_user_login\n",
    "proxy_pwd = \"--proxy-pwd \" + proxy_user_password\n",
    "proxy_server = \"--proxy-server \" + proxy_server_url + \":\" + proxy_server_port\n",
    "xmin = \"-x \" + xmin_longitude\n",
    "xmax = \"-X \" + xmax_longitude\n",
    "ymin = \"-y \" + ymin_latitude\n",
    "ymax = \"-Y \" + ymax_latitude\n",
    "zmin = \"-z \" + zmin_depth\n",
    "zmax = \"-Z \" + zmax_depth\n",
    "\n",
    "# To illustrate a simple Error Handle to delete a file when desired\n",
    "try:\n",
    "    Path.unlink(logfilepath)\n",
    "except OSError:\n",
    "    print (\"\")\n",
    "\n",
    "print(\"\\n+----------------------------+\\n| ! - CONNEXION TO CMEMS HUB |\\n+----------------------------+\\n\\n\")\n",
    "    \n",
    "# To illustrate a For_Loop in order to generate download requests for several datasets held in a product\n",
    "for key, value in dict_id.items():\n",
    "    \n",
    "    if buffer_flag:\n",
    "        print (\"Little pause to let the server clearing the buffer, it will AUTOMATICALLY resume once it's completed.\\nNot mandatory but server-friendly :-)\\n\")\n",
    "        time.sleep(2)\n",
    "        buffer_flag = False\n",
    "            \n",
    "    # Date declaration\n",
    "    date_start = dt.datetime(yyyystart,mmstart,dd,0,0)\n",
    "    date_end = dt.datetime(yyyyend,mmend,dd,0,0)\n",
    "    \n",
    "    # To illustrate a While_Loop in order to extract dailymean data, packed by month (Jan., Fev., Mar. etc...), \n",
    "    # for as many download requests as number of months available in the timerange.\n",
    "    while (date_start <= date_end):\n",
    "        date_end_cmd = (dt.datetime(date_start.year, date_end.month,\\\n",
    "        calendar.monthrange(date_start.year, date_end.month)[1]))\n",
    "        date_cmd = ' -t \\\"' + date_start.strftime(\"%Y-%m-%d\") + hhstart + '\\\"'\\\n",
    "        +' -T \\\"' + date_end_cmd.strftime(\"%Y-%m-%d\") + hhend + '\\\"'\n",
    "        fic_cmd = pre_fic_cmd + key + \"_\" + date_end_cmd.strftime(\"%Y\") + \".nc\"\n",
    "        ficout = pre_name + key + \"_\" + date_end_cmd.strftime(\"%Y\") + \".nc\"\n",
    "        print(\"----------------------------------\\n- ! - Processing dataset request : %s\\n----------------------------------\\n\"%ficout)\n",
    "        if not Path(local_storage_directory_name / ficout).exists():\n",
    "            if proxy_flag:\n",
    "                if zmin is None:\n",
    "                    cmd = ' '.join([motu_cl, log_cmems, pwd_cmems,\\\n",
    "                                value[3], value[2], value[1],\\\n",
    "                                xmin, xmax, ymin, ymax,\\\n",
    "                                date_cmd, value[0], out_cmd, fic_cmd,\\\n",
    "                                proxy_server, proxy_user, proxy_pwd, \"-q\"])\n",
    "                else:\n",
    "                    cmd = ' '.join([motu_cl, log_cmems, pwd_cmems,\\\n",
    "                                value[3], value[2], value[1],\\\n",
    "                                xmin, xmax, ymin, ymax, zmin, zmax,\\\n",
    "                                date_cmd, value[0], out_cmd, fic_cmd,\\\n",
    "                                proxy_server, proxy_user, proxy_pwd, \"-q\"])\n",
    "            else:\n",
    "                if zmin is None:\n",
    "                    cmd = ' '.join([motu_cl, log_cmems, pwd_cmems,\\\n",
    "                                value[3], value[2], value[1],\\\n",
    "                                xmin, xmax, ymin, ymax,\\\n",
    "                                date_cmd, value[0], out_cmd, fic_cmd, \"-q\"])\n",
    "                else:\n",
    "                    cmd = ' '.join([motu_cl, log_cmems, pwd_cmems,\\\n",
    "                                value[3], value[2], value[1],\\\n",
    "                                xmin, xmax, ymin, ymax, zmin, zmax,\\\n",
    "                                date_cmd, value[0], out_cmd, fic_cmd, \"-q\"])\n",
    "            print(\"## MOTU API COMMAND ##\")\n",
    "            print(cmd)\n",
    "            print(\"\\n[INFO] CMEMS server is checking both your credentials and command syntax. If successful, it will extract the data and create your dataset on the fly. Please wait. \\n\")\n",
    "            subpro=subprocess.Popen(cmd,shell=True, stdout=subprocess.PIPE, stderr=subprocess.PIPE)\n",
    "            message,erreur = subpro.communicate()\n",
    "            stat = subpro.returncode\n",
    "            if stat != 0:\n",
    "                    print(\"-- ERROR Incorrect Credentials :\\n %s\"%message)\n",
    "                    with open(logfilepath,'a') as mylog:\n",
    "                        mylog.write(\"Error : %s NOK\\nDue to : %s\"%(ficout,message))\n",
    "                    if 'HTTP Error 400' in message:\n",
    "                        print('HTTP Error 400')\n",
    "                        sys.exit()\n",
    "                    if 'HTTP Error 407' in message:\n",
    "                        print ('''[INFO] Proxy Authentication Required to connect to the Central Authentication System https://cmems-cas.cls.fr/cas/login\\n\\n[INFO] Check the value of proxy_flag (it should be True).\\n\\n[INFO] Double check your proxy settings:\\n  --proxy-server=PROXY_SERVER\\n                        the proxy server (url)\\n  --proxy-user=PROXY_USER\\n                        the proxy user (string)\\n  --proxy-pwd=PROXY_PWD\\n                        the proxy password (string)\\n\\n[INFO] If your proxy credentials are correct but your proxy password (string) contains a '@' then replace it by '%%40' ''')\n",
    "                        print ('''[INFO] This issue is raised due either a misconfiguration in proxy settings or a network issue. If it persists, please contact your network administrator.''')\n",
    "                        sys.exit()\n",
    "                    print(\"\"\"[INFO] Failed data extraction has been logged.\\n\"\"\")\n",
    "            else:\n",
    "                if b\"[ERROR]\" in message:\n",
    "                    print(\"-- ERROR Downloading command :\\n %s\"%message)\n",
    "                    with open(logfilepath,'a') as mylog:\n",
    "                        mylog.write(\"Error : %s NOK\\nDue to : %s\"%(ficout,message))\n",
    "                    print (\"\"\"[INFO] Failed data extraction has been logged.\\n\"\"\")\n",
    "                else:\n",
    "                        print(\"-- MOTU Download successful :\\n %s OK\\n\"%fic_cmd.split()[1])\n",
    "                        cmd_flag = True\n",
    "        else:\n",
    "            print(\"-- Your dataset for %s has already been downloaded in %s --\\n\"% (fic_cmd.split()[1],out_cmd.split()[1]))\n",
    "            cmd_flag = False\n",
    "\n",
    "        date_start = date_end_cmd + dt.timedelta(days=1)\n",
    "        \n",
    "    if cmd_flag:\n",
    "        buffer_flag = True\n",
    "        cmd_flag = False\n",
    "    \n",
    "if not logfilepath.exists():\n",
    "    print(\"\\n------------------------------------------------\\n - ! - Your Copernicus Dataset(s) are located in %s\\n------------------------------------------------\\n\"%(out_cmd.split()[1]))\n",
    "else :\n",
    "    print(\"## [ERROR] ##\")\n",
    "    print(\"/!\\\\ Some download requests failed. Please see recommendation in %s\"%(logfilepath))\n",
    "print(\"+--------------------------------------------+\\n| ! - CONNEXION TO CMEMS HUB HAS BEEN CLOSED |\\n+--------------------------------------------+\\n\")\n",
    "#------------------------------------------------- End of Script -----------------------------------------------------"
   ]
  },
  {
   "cell_type": "markdown",
   "metadata": {},
   "source": [
    "<div class=\"alert alert-block alert-warning\">\n",
    "<b>Important</b>\n",
    "\n",
    "---\n",
    "By now, several requests are sent to the server and you should notice just aside the block of code that it has the line number indicator like this `In[*]`, which means that the block is running.\n",
    "\n",
    "It may **take up to several minutes** (depending on current bandwidth and wifi parameters provided in the training room). \n",
    "\n",
    "In the meantime, no other cells nor block of code can be executed.\n",
    "\n",
    "Once it's done (execution is finished), the output of previous cell should look like:\n",
    "<br>\n",
    "```\n",
    "+----------------------------+\n",
    "| ! - CONNEXION TO CMEMS HUB |\n",
    "+----------------------------+\n",
    "\n",
    "----------------------------------\n",
    "- ! - Processing dataset request : CMEMS_Yearly_Temperature_Dailymean_PUERTOS_2017.nc\n",
    "----------------------------------\n",
    "\n",
    "[...]\n",
    "\n",
    "------------------------------------------------\n",
    " - ! - Your Copernicus Dataset(s) are located in /<PATH-TO>/data/copernicus-marine-data\n",
    "------------------------------------------------\n",
    "\n",
    "+--------------------------------------------+\n",
    "| ! - CONNEXION TO CMEMS HUB HAS BEEN CLOSED |\n",
    "+--------------------------------------------+\n",
    "```\n",
    "\n",
    "\n",
    "**TROUBLESHOOT MOST COMMON ERRORS**\n",
    "- If, for any reason, the `motuclient` has not been installed and you are getting an error mentionning it's required, then please execute the below cell. Otherwise, you can skip it.\n",
    "<br><br>\n",
    "\n",
    "- If you get an error about the **maximum amount of processing queries running simultaneously**, then pleaseupdate the values of `username_cmems` and `password_cmems` with your own credentials by:\n",
    "  - reaching [this section](#ACTION-12.2)\n",
    "  - if you don't have a copernicus marine account yet, requesting freely your credentials [here](CREATE-A-COPERNICUS-MARINE-ACCOUNT)\n",
    "\n",
    "\n",
    "In case of any other error, please inform the Trainer or contact the [Customer Support Service](http://marine.copernicus.eu/services-portfolio/contact-us/)."
   ]
  },
  {
   "cell_type": "code",
   "execution_count": null,
   "metadata": {},
   "outputs": [],
   "source": [
    "# Please execute this cell IF you get an error about the motuclient import.\n",
    "!pip install motuclient"
   ]
  },
  {
   "cell_type": "markdown",
   "metadata": {},
   "source": [
    "<div class=\"alert alert-block alert-success\">\n",
    "\n",
    "\n",
    "### ACTION 12.6\n",
    "\n",
    "**Checking the list of newly downloaded NetCDF files**"
   ]
  },
  {
   "cell_type": "markdown",
   "metadata": {},
   "source": [
    "Let's check the list of netCDF files that you just downloaded. We'll use a cell magic command --listing files (more details here http://ipython.org/ipython-doc/dev/interactive/tutorial.html#magics-explained)"
   ]
  },
  {
   "cell_type": "code",
   "execution_count": null,
   "metadata": {},
   "outputs": [],
   "source": [
    "ls $local_storage_directory_name"
   ]
  },
  {
   "cell_type": "markdown",
   "metadata": {},
   "source": [
    "Let's use bash cell magic \"to call\" ncview within the Notebook."
   ]
  },
  {
   "cell_type": "markdown",
   "metadata": {},
   "source": [
    "<div class=\"alert alert-block alert-warning\">\n",
    "\n",
    "<center><b>**IMPORTANT**</b></center>\n",
    "\n",
    "**THE BELOW CELL ABOUT NCIEW VISUALISATION STARTING WITH \"!\" WILL ONLY WORK ON:**\n",
    "- **MERCATOROCEAN VIRTUALMACHINE**\n",
    "- **UNIX-BASED-OS WITH NCVIEW INSTALLED.**"
   ]
  },
  {
   "cell_type": "code",
   "execution_count": null,
   "metadata": {},
   "outputs": [],
   "source": [
    "!ncview \"$local_storage_directory_name\"/CMEMS_Yearly_Temperature_Dailymean_MERCATOR_2017.nc"
   ]
  },
  {
   "cell_type": "markdown",
   "metadata": {},
   "source": [
    "Now let's compare several files that we just downloaded, using the bash cell magic command :\n",
    "\n",
    "ncview file_1.nc file2.nc & ncview file_3.nc file_4.nc"
   ]
  },
  {
   "cell_type": "code",
   "execution_count": null,
   "metadata": {},
   "outputs": [],
   "source": [
    "%%bash -s \"$local_storage_directory_name\"\n",
    "#visualize several years, using ncview command and a list of netcdf files\n",
    "ncview \"$1/CMEMS_Yearly_Temperature_Dailymean_METOFFICE_2017.nc\" & ncview \"$1/CMEMS_Yearly_Temperature_Dailymean_MERCATOR_2017.nc\""
   ]
  },
  {
   "cell_type": "markdown",
   "metadata": {},
   "source": [
    "<div class=\"alert alert-block alert-success\">\n",
    "\n",
    "\n",
    "### ACTION 13\n",
    "\n",
    "**Creating an advanced script to subset and download NetCDF files by months**\n",
    "\n",
    "Create a (python) script to download a large amount of data, month by month."
   ]
  },
  {
   "cell_type": "markdown",
   "metadata": {},
   "source": [
    "### Parameters of the request to download data MONTH by MONTH with daily mean\n",
    "---\n",
    "\n",
    "You can edit values to change :\n",
    "- the timerange and/or \n",
    "- the geographical area and/or \n",
    "- the depth.\n",
    "\n",
    "**Important**: you can execute the below cell as is since it's already configured to do an extraction for a few months."
   ]
  },
  {
   "cell_type": "code",
   "execution_count": null,
   "metadata": {
    "nbpresent": {
     "id": "ceba9f7d-7a54-4f35-b059-7668f8a15407"
    },
    "scrolled": false,
    "slideshow": {
     "slide_type": "slide"
    }
   },
   "outputs": [],
   "source": [
    "# To do our subset, We'll use the same datasets,\n",
    "# so the dictionary we initialized above can be re-used (There is no need to declare it again).\n",
    "\n",
    "# - - - - - \n",
    "# Timerange \n",
    "# - - - - -\n",
    "# (defined to download data from December 2017 to February 2018 for this example, but you could increase the time range)\n",
    "\n",
    "\n",
    "# Date - Timerange\n",
    "yyyystart = 2017\n",
    "mmstart = 12\n",
    "yyyyend = 2018\n",
    "mmend = 2\n",
    "hhstart = \" 12:00:00\"\n",
    "hhend = \" 12:00:00\"\n",
    "dd = 1\n",
    "\n",
    "# Output prefix file name\n",
    "pre_name = \"CMEMS_Monthly_\""
   ]
  },
  {
   "cell_type": "markdown",
   "metadata": {},
   "source": [
    "<div class=\"alert alert-block alert-warning\">\n",
    "\n",
    "<center><b>Main Program</b></center>\n",
    "\n",
    "<center><b>Motu Client Call through Python Loop over Months</b></center>\n",
    "\n",
    "- - - - -\n",
    "\n",
    " For this training, you **SHOULD NOT** modify the content of the below cell. Would you have any question, feel free to contact our [Customer Support Service](http://marine.copernicus.eu/services-portfolio/contact-us/)."
   ]
  },
  {
   "cell_type": "code",
   "execution_count": null,
   "metadata": {},
   "outputs": [],
   "source": [
    "# THIS CELL NEED TO BE EXECUTED WITHOUT BEING MODIFIED\n",
    "\n",
    "# Check motuclient \n",
    "try:\n",
    "    import motuclient\n",
    "except ImportError:\n",
    "    print('\\nThe module motuclient was not found. To overcome this problem, please:\\n- Open a terminal and type in: pip install motuclient\\nOr\\n- Create a new cell and write in: !pip install motuclient')\n",
    "    sys.exit()\n",
    "\n",
    "if not Path(local_storage_directory_name).exists():\n",
    "    Path(local_storage_directory_name).mkdir(parents=True, exist_ok=True)\n",
    "\n",
    "# Flags to let the server clears the buffer - better to be respectful when retrieving OPEN data\n",
    "buffer_flag = False\n",
    "cmd_flag = False\n",
    "\n",
    "# Error Handle on dates (to illustrate an if statement with eval param '>')\n",
    "if yyyystart > yyyyend:\n",
    "    print(\"[ERROR] in [Date Parameters]\")\n",
    "    print(\"\"\"Please double check your date parameters, specifically the \"yyyystart\" which is currently greater than \"yyyyend.\"\"\")\n",
    "    print(\"\"\"End of data extraction service.\"\"\")\n",
    "    sys.exit()\n",
    "\n",
    "# Other variable definitions to be compatible with deprecated script versions still available on the Internet\n",
    "local_storage_directory_name = Path(local_storage_directory_name)\n",
    "logfilepath = local_storage_directory_name.absolute() / logfile\n",
    "log_cmems = \"-u \" + username_cmems\n",
    "pwd_cmems = \"-p \" + password_cmems\n",
    "pre_fic_cmd = \"-f \"+ pre_name\n",
    "out_cmd = \"-o \" + str(local_storage_directory_name.absolute())\n",
    "proxy_user = \"--proxy-user \" + proxy_user_login\n",
    "proxy_pwd = \"--proxy-pwd \" + proxy_user_password\n",
    "proxy_server = \"--proxy-server \" + proxy_server_url + \":\" + proxy_server_port\n",
    "xmin = \"-x \" + xmin_longitude\n",
    "xmax = \"-X \" + xmax_longitude\n",
    "ymin = \"-y \" + ymin_latitude\n",
    "ymax = \"-Y \" + ymax_latitude\n",
    "zmin = \"-z \" + zmin_depth\n",
    "zmax = \"-Z \" + zmax_depth\n",
    "\n",
    "\n",
    "# To illustrate a simple Error Handle to delete a file when desired\n",
    "try:\n",
    "    Path.unlink(logfilepath)\n",
    "except OSError:\n",
    "    print (\"\")\n",
    "\n",
    "print(\"\\n+----------------------------+\\n| ! - CONNEXION TO CMEMS HUB |\\n+----------------------------+\\n\\n\")\n",
    "    \n",
    "# To illustrate a For_Loop in order to generate download requests for several datasets held in a product\n",
    "for key, value in dict_id.items():\n",
    "    \n",
    "    if buffer_flag:\n",
    "        print (\"Little pause to let the server clearing the buffer, it will AUTOMATICALLY resume once it's completed.\\nNot mandatory but server-friendly :-)\\n\")\n",
    "        time.sleep(2)\n",
    "        buffer_flag = False\n",
    "            \n",
    "    # Date declaration\n",
    "    date_start = dt.datetime(yyyystart,mmstart,dd,0,0)\n",
    "    date_end = dt.datetime(yyyyend,mmend,dd,0,0)\n",
    "    \n",
    "    # To illustrate a While_Loop in order to extract dailymean data, packed by month (Jan., Fev., Mar. etc...), \n",
    "    # for as many download requests as number of months available in the timerange.\n",
    "    while (date_start <= date_end):\n",
    "        date_end_cmd = (dt.datetime(date_start.year, date_start.month,\\\n",
    "        calendar.monthrange(date_start.year, date_start.month)[1]))\n",
    "        date_cmd = ' -t \\\"' + date_start.strftime(\"%Y-%m-%d\") + hhstart + '\\\"'\\\n",
    "        +' -T \\\"' + date_end_cmd.strftime(\"%Y-%m-%d\") + hhend + '\\\"'\n",
    "        fic_cmd = pre_fic_cmd + key + \"_\" + date_end_cmd.strftime(\"%Y-%m\") + \".nc\"\n",
    "        ficout = pre_name + key + \"_\" + date_end_cmd.strftime(\"%Y-%m\") + \".nc\"\n",
    "        print(\"----------------------------------\\n- ! - Processing dataset request : %s\\n----------------------------------\\n\"%ficout)\n",
    "        if not Path(local_storage_directory_name / ficout).exists():\n",
    "            if proxy_flag:\n",
    "                if zmin is None:\n",
    "                    cmd = ' '.join([motu_cl, log_cmems, pwd_cmems,\\\n",
    "                                value[3], value[2], value[1],\\\n",
    "                                xmin, xmax, ymin, ymax,\\\n",
    "                                date_cmd, value[0], out_cmd, fic_cmd,\\\n",
    "                                proxy_server, proxy_user, proxy_pwd, \"-q\"])\n",
    "                else:\n",
    "                    cmd = ' '.join([motu_cl, log_cmems, pwd_cmems,\\\n",
    "                                value[3], value[2], value[1],\\\n",
    "                                xmin, xmax, ymin, ymax, zmin, zmax,\\\n",
    "                                date_cmd, value[0], out_cmd, fic_cmd,\\\n",
    "                                proxy_server, proxy_user, proxy_pwd, \"-q\"])\n",
    "            else:\n",
    "                if zmin is None:\n",
    "                    cmd = ' '.join([motu_cl, log_cmems, pwd_cmems,\\\n",
    "                                value[3], value[2], value[1],\\\n",
    "                                xmin, xmax, ymin, ymax,\\\n",
    "                                date_cmd, value[0], out_cmd, fic_cmd, \"-q\"])\n",
    "                else:\n",
    "                    cmd = ' '.join([motu_cl, log_cmems, pwd_cmems,\\\n",
    "                                value[3], value[2], value[1],\\\n",
    "                                xmin, xmax, ymin, ymax, zmin, zmax,\\\n",
    "                                date_cmd, value[0], out_cmd, fic_cmd, \"-q\"])\n",
    "            print(\"## MOTU API COMMAND ##\")\n",
    "            print(cmd)\n",
    "            print(\"\\n[INFO] CMEMS server is checking both your credentials and command syntax. If successful, it will extract the data and create your dataset on the fly. Please wait. \\n\")\n",
    "            subpro=subprocess.Popen(cmd,shell=True, stdout=subprocess.PIPE, stderr=subprocess.PIPE)\n",
    "            message,erreur = subpro.communicate()\n",
    "            stat = subpro.returncode\n",
    "            if stat != 0:\n",
    "                    print(\"-- ERROR Incorrect Credentials :\\n %s\"%message)\n",
    "                    with open(logfilepath,'a') as mylog:\n",
    "                        mylog.write(\"Error : %s NOK\\nDue to : %s\"%(ficout,message))\n",
    "                    if 'HTTP Error 400' in message:\n",
    "                        print('''[INFO] Copernicus Marine USERNAME ('username_cmems') and/or PASSWORD ('password_cmems') are incorrect.\\n\\n[INFO] To execute the MOTU API COMMAND from your shell/terminal, please note the following rules:\\n\n",
    "                        On *nix OS, you must use the single quote, otherwise it may expand specific characters.\n",
    "                        [...] -u 'string' or --user='string' [...]\\n\n",
    "                        On Windows OS, you must use the double quote, because single quotes are treated literally.\n",
    "                        [...] -p \"string\" or --pwd=\"string\" [...]\\n''')\n",
    "                        sys.exit()\n",
    "                    if 'HTTP Error 407' in message:\n",
    "                        print('''[INFO] Proxy Authentication Required to connect to the Central Authentication System https://cmems-cas.cls.fr/cas/login\\n\\n[INFO] Check the value of proxy_flag (it should be True).\\n\\n[INFO] Double check your proxy settings:\\n  --proxy-server=PROXY_SERVER\\n                        the proxy server (url)\\n  --proxy-user=PROXY_USER\\n                        the proxy user (string)\\n  --proxy-pwd=PROXY_PWD\\n                        the proxy password (string)\\n\\n[INFO] If your proxy credentials are correct but your proxy password (string) contains a '@' then replace it by '%%40' ''')\n",
    "                        print('''[INFO] This issue is raised due either a misconfiguration in proxy settings or a network issue. If it persists, please contact your network administrator.''')\n",
    "                        sys.exit()\n",
    "                    print (\"\"\"[INFO] Failed data extraction has been logged.\\n\"\"\")\n",
    "            else:\n",
    "                if b\"[ERROR]\" in message:\n",
    "                    print(\"-- ERROR Downloading command :\\n %s\"%message)\n",
    "                    with open(logfilepath,'a') as mylog:\n",
    "                        mylog.write(\"Error : %s NOK\\nDue to : %s\"%(ficout,message))\n",
    "                    print (\"\"\"[INFO] Failed data extraction has been logged.\\n\"\"\")\n",
    "                else:\n",
    "                        print(\"-- MOTU Download successful :\\n %s OK\\n\"%fic_cmd.split()[1])\n",
    "                        cmd_flag = True\n",
    "        else:\n",
    "            print(\"-- Your dataset for %s has already been downloaded in %s --\\n\"% (fic_cmd.split()[1],out_cmd.split()[1]))\n",
    "            cmd_flag = False\n",
    "\n",
    "        date_start = date_end_cmd + dt.timedelta(days=1)\n",
    "        \n",
    "    if cmd_flag:\n",
    "        buffer_flag = True\n",
    "        cmd_flag = False\n",
    "    \n",
    "if not logfilepath.exists():\n",
    "    print(\"\\n------------------------------------------------\\n - ! - Your Copernicus Dataset(s) are located in %s\\n------------------------------------------------\\n\"%(out_cmd.split()[1]))\n",
    "else :\n",
    "    print(\"## [ERROR] ##\")\n",
    "    print(\"/!\\\\ Some download requests failed. Please see recommendation in %s\"%(logfilepath))\n",
    "print(\"+--------------------------------------------+\\n| ! - CONNEXION TO CMEMS HUB HAS BEEN CLOSED |\\n+--------------------------------------------+\\n\")\n",
    "#------------------------------------------------- End of Script -----------------------------------------------------"
   ]
  },
  {
   "cell_type": "markdown",
   "metadata": {},
   "source": [
    "If, for any reason, the `motuclient` has not been installed and you are getting an error mentionning it's required, then please execute the below cell. Otherwise, you can skip it."
   ]
  },
  {
   "cell_type": "code",
   "execution_count": null,
   "metadata": {},
   "outputs": [],
   "source": [
    "# Please execute this cell IF you get an error about the motuclient import.\n",
    "!pip install motuclient"
   ]
  },
  {
   "cell_type": "markdown",
   "metadata": {},
   "source": [
    "--------\n",
    "Here's below an example of using a cell magic to download the Copernicus Data using a simple script :"
   ]
  },
  {
   "cell_type": "code",
   "execution_count": null,
   "metadata": {},
   "outputs": [],
   "source": [
    "!motuclient \\\n",
    "-m http://nrt.cmems-du.eu/motu-web/Motu \\\n",
    "-s GLOBAL_ANALYSIS_FORECAST_PHY_001_024-TDS \\\n",
    "-d global-analysis-forecast-phy-001-024 \\\n",
    "-x -6 -X 36.5 -y 30 -Y 46 \\\n",
    "-t \"2016-10-17 12:00:00\" -T \"2016-10-17 12:00:00\" \\\n",
    "-z 0.494 -Z 0.4942 \\\n",
    "-o $local_storage_directory_name \\\n",
    "-f Global_subset_med_forecast.nc \\\n",
    "-u trainingcrts2018 -p trainingcrts2018"
   ]
  },
  {
   "cell_type": "markdown",
   "metadata": {},
   "source": [
    "Let's check the listing of the files you downloaded so far, ordered by last download, with the volume size and group rights."
   ]
  },
  {
   "cell_type": "code",
   "execution_count": null,
   "metadata": {},
   "outputs": [],
   "source": [
    "ls -lrht $local_storage_directory_name"
   ]
  },
  {
   "cell_type": "markdown",
   "metadata": {},
   "source": [
    "# How to check the content of NetCDF file and quickly plot data\n",
    "---"
   ]
  },
  {
   "cell_type": "markdown",
   "metadata": {},
   "source": [
    "<div class=\"alert alert-block alert-info\">\n",
    "<b>Note</b>\n",
    "\n",
    "- - - - -\n",
    "There are many desktop clients, libraries, programming languages to manipulate NetCDF files. There are divided into two categories:\n",
    "\n",
    "- [Freely available](http://www.unidata.ucar.edu/software/netcdf/software.html#freely)\n",
    "- [Commercial or Licensed Packages](http://www.unidata.ucar.edu/software/netcdf/software.html#commercial)\n",
    "\n",
    "To answer the question in this chapter, we will use scientific libraries, modules, packages, developed in Python, available free of charge and already installed in your environment (if you have implemented the technical requirements highlighted [here](http://marine.copernicus.eu/faq/technical-requirements-attend-crts-copernicusmarine-training/?idpage=169))."
   ]
  },
  {
   "cell_type": "markdown",
   "metadata": {},
   "source": [
    "You need to import needed modules which are:\n",
    "- **[Xarray]**:\n",
    "It is designed to perform labelled data analysis on multi-dimensional arrays and it adopts the Common Data Model for self-describing scientific data in widespread use in the Earth sciences. In the specific the xarray.Dataset is a top-level function which is an in-memory representation of a netCDF file.\n",
    "- **[Matplotlib]**: \n",
    "It is a state-based interface to matplotlib. It provides a MATLAB-like way of plotting."
   ]
  },
  {
   "cell_type": "code",
   "execution_count": null,
   "metadata": {},
   "outputs": [],
   "source": [
    "import xarray as xr\n",
    "import matplotlib.pyplot as plt\n",
    "%matplotlib inline\n",
    "plt.style.use('ggplot')"
   ]
  },
  {
   "cell_type": "markdown",
   "metadata": {},
   "source": [
    "_**Note**: The `import` module may take up to 60 secondes depending on your machine characteristics. Please wait._"
   ]
  },
  {
   "cell_type": "markdown",
   "metadata": {},
   "source": [
    "Now you will be able to open the netCDF file and input it as an xarray dataset (a dataseries shortened as `ds`). It loads an in-memory representation of our NetCDF file from which are taken the dimentions, variables, coordinates and attributes."
   ]
  },
  {
   "cell_type": "code",
   "execution_count": null,
   "metadata": {},
   "outputs": [],
   "source": [
    "netcdfFile_in = Path(Path(out_cmd.split()[1]) / Path(fic_cmd.split()[1]))"
   ]
  },
  {
   "cell_type": "code",
   "execution_count": null,
   "metadata": {},
   "outputs": [],
   "source": [
    "ds = xr.open_dataset(netcdfFile_in)"
   ]
  },
  {
   "cell_type": "markdown",
   "metadata": {},
   "source": [
    "<div class=\"alert alert-block alert-success\">\n",
    "\n",
    "\n",
    "### ACTION 14\n",
    "\n",
    "**Exploring NetCDF file content**\n"
   ]
  },
  {
   "cell_type": "code",
   "execution_count": null,
   "metadata": {},
   "outputs": [],
   "source": [
    "ds._file_obj.ds"
   ]
  },
  {
   "cell_type": "markdown",
   "metadata": {},
   "source": [
    "**What do we see?**\n",
    "\n",
    "From the above results, it seems that we are dealing with NetCDF files in format `NETCDF3_CLASSIC data model`. Dimensions, variables are described by it can be done with further commands with more detailed output."
   ]
  },
  {
   "cell_type": "code",
   "execution_count": null,
   "metadata": {},
   "outputs": [],
   "source": [
    "ds"
   ]
  },
  {
   "cell_type": "markdown",
   "metadata": {},
   "source": [
    "<div class=\"alert alert-block alert-success\">\n",
    "\n",
    "\n",
    "### ACTION 15\n",
    "\n",
    "**Checking NetCDF Metadata**\n"
   ]
  },
  {
   "cell_type": "code",
   "execution_count": null,
   "metadata": {},
   "outputs": [],
   "source": [
    "ds.dims"
   ]
  },
  {
   "cell_type": "code",
   "execution_count": null,
   "metadata": {},
   "outputs": [],
   "source": [
    "ds.attrs"
   ]
  },
  {
   "cell_type": "markdown",
   "metadata": {},
   "source": [
    "From the query executed above it is possible to verify our matrix dimentions, coordinates, data variables and attributes.<br>\n",
    "However in this example we focus on the one variable contained in the file which is the `sea_water_temperature` aka `thetao`.\n",
    "\n",
    "By typing `<DATASERIE>.<VARIABLE>`,it is possible to access and visualise just the variable's metadata as follow:"
   ]
  },
  {
   "cell_type": "code",
   "execution_count": null,
   "metadata": {},
   "outputs": [],
   "source": [
    "ds.thetao"
   ]
  },
  {
   "cell_type": "code",
   "execution_count": null,
   "metadata": {},
   "outputs": [],
   "source": [
    "ds.thetao.dims"
   ]
  },
  {
   "cell_type": "markdown",
   "metadata": {},
   "source": [
    "<div class=\"alert alert-block alert-success\">\n",
    "\n",
    "\n",
    "### ACTION 16\n",
    "\n",
    "**Checking NetCDF Data**\n"
   ]
  },
  {
   "cell_type": "markdown",
   "metadata": {},
   "source": [
    "It's also possible to easily check the netCDF file data (marine information) content:"
   ]
  },
  {
   "cell_type": "code",
   "execution_count": null,
   "metadata": {
    "scrolled": true
   },
   "outputs": [],
   "source": [
    "ds.thetao.values"
   ]
  },
  {
   "cell_type": "code",
   "execution_count": null,
   "metadata": {},
   "outputs": [],
   "source": [
    "ds.thetao.attrs"
   ]
  },
  {
   "cell_type": "code",
   "execution_count": null,
   "metadata": {},
   "outputs": [],
   "source": [
    "ds.thetao.attrs['tutorial-CRTSDEC2018-date'] = 20181218"
   ]
  },
  {
   "cell_type": "code",
   "execution_count": null,
   "metadata": {},
   "outputs": [],
   "source": [
    "ds.thetao.attrs"
   ]
  },
  {
   "cell_type": "code",
   "execution_count": null,
   "metadata": {},
   "outputs": [],
   "source": [
    "type(ds.thetao.values)"
   ]
  },
  {
   "cell_type": "markdown",
   "metadata": {},
   "source": [
    "**Positional indexing (old way)**"
   ]
  },
  {
   "cell_type": "code",
   "execution_count": null,
   "metadata": {},
   "outputs": [],
   "source": [
    "ds.thetao[:, 0, 5, 0] "
   ]
  },
  {
   "cell_type": "code",
   "execution_count": null,
   "metadata": {},
   "outputs": [],
   "source": [
    "ds.thetao[:, 0, 5, 0].plot();"
   ]
  },
  {
   "cell_type": "markdown",
   "metadata": {},
   "source": [
    "**Selection based on the value of a coordinate:**"
   ]
  },
  {
   "cell_type": "code",
   "execution_count": null,
   "metadata": {},
   "outputs": [],
   "source": [
    "ds.thetao.sel(latitude=26.13, longitude=-19, method='nearest', tolerance=0.2).plot();"
   ]
  },
  {
   "cell_type": "markdown",
   "metadata": {},
   "source": [
    "**Selection by value works well for time to create Histogram**"
   ]
  },
  {
   "cell_type": "code",
   "execution_count": null,
   "metadata": {},
   "outputs": [],
   "source": [
    "ds.thetao.sel(time='2018-02').plot()"
   ]
  },
  {
   "cell_type": "markdown",
   "metadata": {},
   "source": [
    "**Selection based on the index of a coordinate:**"
   ]
  },
  {
   "cell_type": "code",
   "execution_count": null,
   "metadata": {},
   "outputs": [],
   "source": [
    "ds.thetao.isel(time=0).plot();"
   ]
  },
  {
   "cell_type": "code",
   "execution_count": null,
   "metadata": {},
   "outputs": [],
   "source": [
    "fig, ax = plt.subplots()\n",
    "ax.plot(ds.thetao.sel(latitude=34, longitude=-10, method='nearest', tolerance=0.2), label='lat34,lon-10')\n",
    "ax.plot(ds.thetao.sel(latitude=35, longitude=-10, method='nearest', tolerance=0.2), label='lat35,lon-10')\n",
    "ax.legend(loc='upper right')"
   ]
  },
  {
   "cell_type": "markdown",
   "metadata": {},
   "source": [
    "<div class=\"alert alert-block alert-success\">\n",
    "\n",
    "\n",
    "### ACTION 17\n",
    "\n",
    "**Compute both minimum and maximum values from the netCDF file**"
   ]
  },
  {
   "cell_type": "markdown",
   "metadata": {},
   "source": [
    "Let's use the `min()` and `max()` functions."
   ]
  },
  {
   "cell_type": "code",
   "execution_count": null,
   "metadata": {},
   "outputs": [],
   "source": [
    "min_thetao = ds.thetao.min()\n",
    "min_thetao"
   ]
  },
  {
   "cell_type": "code",
   "execution_count": null,
   "metadata": {
    "scrolled": true
   },
   "outputs": [],
   "source": [
    "max_thetao = ds.thetao.max()\n",
    "max_thetao"
   ]
  },
  {
   "cell_type": "markdown",
   "metadata": {},
   "source": [
    "It means that the minimum temperature computed by the numerical model for this period is {{min_thetao}} °C and the maximum is {{max_thetao}} °C."
   ]
  },
  {
   "cell_type": "markdown",
   "metadata": {},
   "source": [
    "<div class=\"alert alert-block alert-success\">\n",
    "\n",
    "\n",
    "### ACTION 18\n",
    "\n",
    "**Create a map of the mean temperature**"
   ]
  },
  {
   "cell_type": "code",
   "execution_count": null,
   "metadata": {
    "scrolled": true
   },
   "outputs": [],
   "source": [
    "thetao_mean = ds.thetao.mean(dim = \"time\")\n",
    "thetao_mean.plot();"
   ]
  },
  {
   "cell_type": "markdown",
   "metadata": {},
   "source": [
    "We'll go further with the usage of `xarray` and `matplotlib` in a [dedicated training](https://atlas.mercator-ocean.fr/s/n96TPr4cJsQNeKA)."
   ]
  },
  {
   "cell_type": "code",
   "execution_count": null,
   "metadata": {},
   "outputs": [],
   "source": [
    "ds.close()"
   ]
  },
  {
   "cell_type": "markdown",
   "metadata": {},
   "source": [
    "# How to learn how these marine data are used ? How to get inspired?\n",
    "----"
   ]
  },
  {
   "cell_type": "markdown",
   "metadata": {},
   "source": [
    "On the Copernicus Marine Website, there are two websections on which you can find useful information and answers to the above questions, such as:\n",
    "- [Use Cases Presentation](http://marine.copernicus.eu/markets/submit-your-use-case/)\n",
    "- [Downstream Service Demonstration](http://marine.copernicus.eu/markets/use-case-demos/)\n",
    "\n",
    "Also, you can execute the below cell to display it in the notebook."
   ]
  },
  {
   "cell_type": "code",
   "execution_count": null,
   "metadata": {},
   "outputs": [],
   "source": [
    "IFrame(\"http://marine.copernicus.eu/markets/use-case-demos/\", width=1000, height=600)"
   ]
  },
  {
   "cell_type": "markdown",
   "metadata": {
    "nbpresent": {
     "id": "34b5bd47-5eb9-408c-85dd-0e2b7e24d603"
    }
   },
   "source": [
    "# Exchange and share on Copernicus Marine Forum\n",
    "--- "
   ]
  },
  {
   "cell_type": "code",
   "execution_count": null,
   "metadata": {
    "nbpresent": {
     "id": "a139c1e9-3a36-4786-a98c-855b457fd53f"
    }
   },
   "outputs": [],
   "source": [
    "IFrame(\"http://forum.marine.copernicus.eu/discussion/209/problem-report-template-cmems-services-website-data-access-data-post-treatment-etc-tips#Item_1\", width=1000, height=350)"
   ]
  },
  {
   "cell_type": "markdown",
   "metadata": {
    "nbpresent": {
     "id": "47152d9c-f7c0-435a-8dc7-17ab76f0ddc9"
    }
   },
   "source": [
    "# Sometimes you just need a little help\n",
    "--- "
   ]
  },
  {
   "cell_type": "markdown",
   "metadata": {},
   "source": [
    "The Copernicus Marine Support Service is available and free of charge, as described below. By executing the cell, you'll see a `SUBMIT TICKET` button. Feel free to use to raise your questions."
   ]
  },
  {
   "cell_type": "code",
   "execution_count": null,
   "metadata": {
    "slideshow": {
     "slide_type": "skip"
    }
   },
   "outputs": [],
   "source": [
    "%%HTML\n",
    "<div class=\"text\">\n",
    "<p>&nbsp;</p>\n",
    "<p><span style=\"font-size: medium;\">More to come next. Meantime, if you have any questions, feel free to check at first the online resources :</span></p>\n",
    "<p>&nbsp;</p>\n",
    "</div>\n",
    "<table>\n",
    "<tbody>\n",
    "<tr>\n",
    "<td><a href=\"http://marine.copernicus.eu/training/online-tutorials/\"><img class=\"alignnone\" title=\"\" src=\"http://marine.copernicus.eu/wp-content/uploads/2016/10/online-tutorial-video.png\" alt=\"\" width=\"30\" height=\"30\" /></a></td>\n",
    "<td>\n",
    "<p>In the <a href=\"http://marine.copernicus.eu/training/online-tutorials/\"><strong>ONLINE TUTORIAL</strong></a> section, you'll find <em>HOW TO</em> videos about previous User Training &amp; Workshop. Specific videos show how to use CMEMS Products and Services.</p>\n",
    "</td>\n",
    "</tr>\n",
    "<tr>\n",
    "<td><a href=\"http://marine.copernicus.eu/services-portfolio/technical-faq/\"><img class=\"aligncenter\" title=\"\" src=\"http://marine.copernicus.eu/wp-content/uploads/2016/10/frequently-asked-questions.png\" alt=\"\" width=\"30\" height=\"30\" /></a></td>\n",
    "<td>In the <a href=\"http://marine.copernicus.eu/services-portfolio/technical-faq/\"><strong><span style=\"color: #006699;\">FREQUENTLY ASKED QUESTIONS</span></strong></a> section, CMEMS Products and Services won't have any secret for you.</td>\n",
    "</tr>\n",
    "<tr>\n",
    "<td><a href=\"http://forum.marine.copernicus.eu/categories/introduce-yourself\"><img class=\"aligncenter\" title=\"\" src=\"http://marine.copernicus.eu/wp-content/uploads/2016/10/cmems-forum.png\" alt=\"\" width=\"30\" height=\"30\" /></a></td>\n",
    "<td>In the <a href=\"http://forum.marine.copernicus.eu/categories/introduce-yourself\"><span style=\"color: #006699;\"><strong>CMEMS Forum</strong></span></a>, you can exchange, share, get trained and get inspired ! </td>\n",
    "</tr>\n",
    "</tbody>\n",
    "</table>\n",
    "<p>&nbsp;</p>\n",
    "<div class=\"text\">\n",
    "<p>&nbsp;</p>\n",
    "<p><span style=\"font-size: medium;\">If your questions remain unsolved, <span style=\"color: #006699;\"><strong>CMEMS Support Team</strong></span> is here to support you during business hours, from <span style=\"color: #006699;\"><strong>7 AM</strong></span> to <span style=\"color: #006699;\"><strong>3 PM</strong></span> UTC, <span style=\"color: #006699;\"><strong>Monday - Friday</strong></span> (limited support on holidays)</span></p>\n",
    "</div>\n",
    "<p style=\"text-align: center;\"><a class=\"typeform-share button\" href=\"https://marinecopernicus.typeform.com/to/dezUKa\" target=\"_blank\" data-mode=\"1\">Submit a ticket</a> <script>(function(){var qs,js,q,s,d=document,gi=d.getElementById,ce=d.createElement,gt=d.getElementsByTagName,id='typef_orm',b='https://s3-eu-west-1.amazonaws.com/share.typeform.com/';if(!gi.call(d,id)){js=ce.call(d,'script');js.id=id;js.src=b+'share.js';q=gt.call(d,'script')[0];q.parentNode.insertBefore(js,q)}id=id+'_';if(!gi.call(d,id)){qs=ce.call(d,'link');qs.rel='stylesheet';qs.id=id;qs.href=b+'share-button.css';s=gt.call(d,'head')[0];s.appendChild(qs,s)}})()</script></p>\n",
    "<div class=\"text\">\n",
    "<p>&nbsp;</p>\n",
    "<p>&nbsp;</p>\n",
    "<p><span style=\"font-size: medium;\">For any question related to the Communication field, please contact <span style=\"color: #006699;\"><strong><a style=\"color: #006699;\" href=\"mailto:communication@mercator-ocean.fr\">CMEMS </a></strong></span></span><span style=\"color: #006699;\"><strong><a style=\"color: #006699;\" href=\"mailto:communication@mercator-ocean.fr\"><span style=\"font-size: medium;\">Communication team</span></a></strong></span><span style=\"font-size: medium;\">.</span></p>\n",
    "</div>"
   ]
  },
  {
   "cell_type": "markdown",
   "metadata": {},
   "source": [
    " \n",
    " \n",
    "##### Thanks for your attention and sharing."
   ]
  }
 ],
 "metadata": {
  "anaconda-cloud": {},
  "kernelspec": {
   "display_name": "Python 3",
   "language": "python",
   "name": "python3"
  },
  "language_info": {
   "codemirror_mode": {
    "name": "ipython",
    "version": 3
   },
   "file_extension": ".py",
   "mimetype": "text/x-python",
   "name": "python",
   "nbconvert_exporter": "python",
   "pygments_lexer": "ipython3",
   "version": "3.6.3"
  },
  "nbpresent": {
   "slides": {
    "07650707-a6e5-4cda-a61a-bfaeecf3463e": {
     "id": "07650707-a6e5-4cda-a61a-bfaeecf3463e",
     "prev": "0cc45c6e-02f4-49fa-82e3-7f9bf47e41d8",
     "regions": {
      "fc7dd2f3-86bb-4ad0-ae98-14270b763950": {
       "attrs": {
        "height": 1,
        "width": 1,
        "x": 0,
        "y": 0
       },
       "content": {
        "cell": "34b5bd47-5eb9-408c-85dd-0e2b7e24d603",
        "part": "whole"
       },
       "id": "fc7dd2f3-86bb-4ad0-ae98-14270b763950"
      }
     }
    },
    "0cc45c6e-02f4-49fa-82e3-7f9bf47e41d8": {
     "id": "0cc45c6e-02f4-49fa-82e3-7f9bf47e41d8",
     "prev": "bb2ef2fa-db27-420f-bd0a-fff634b776a9",
     "regions": {
      "9bfc2a32-d9bc-4b16-887e-510971a5c56e": {
       "attrs": {
        "height": 1,
        "width": 1,
        "x": 0,
        "y": 0
       },
       "content": {
        "cell": "ceba9f7d-7a54-4f35-b059-7668f8a15407",
        "part": "whole"
       },
       "id": "9bfc2a32-d9bc-4b16-887e-510971a5c56e"
      }
     }
    },
    "bb2ef2fa-db27-420f-bd0a-fff634b776a9": {
     "id": "bb2ef2fa-db27-420f-bd0a-fff634b776a9",
     "prev": null,
     "regions": {
      "28567736-9bac-41df-8a10-3e878cdf4371": {
       "attrs": {
        "height": 1,
        "width": 1,
        "x": 0.0011876484560570072,
        "y": 0.00844550013196094
       },
       "content": {
        "cell": "e650ae1c-561f-4795-a198-64414a1a70a2",
        "part": "whole"
       },
       "id": "28567736-9bac-41df-8a10-3e878cdf4371"
      }
     }
    }
   },
   "themes": {
    "default": "09b0ed37-512c-41d2-83b5-7416c33e1762",
    "theme": {}
   }
  }
 },
 "nbformat": 4,
 "nbformat_minor": 1
}
